{
 "cells": [
  {
   "cell_type": "markdown",
   "metadata": {
    "deletable": true,
    "editable": true
   },
   "source": [
    "# Quora Question Pairs\n",
    "# Part 1. Baseline\n",
    "\n",
    "[Kaggle competition](https://www.kaggle.com/c/quora-question-pairs)   \n",
    "Anthony Kulesh  \n",
    "Spring 2017\n",
    "\n",
    "![Caption for the picture.](http://resource.mymagic.my/wp-content/uploads/2015/12/quora-e1451290677883.png)\n",
    "\n",
    "## Description\n",
    "Where else but Quora can a physicist help a chef with a math problem and get cooking tips in return? Quora is a place to gain and share knowledge—about anything. It’s a platform to ask questions and connect with people who contribute unique insights and quality answers. This empowers people to learn from each other and to better understand the world.\n",
    "\n",
    "Over 100 million people visit Quora every month, so it's no surprise that many people ask similarly worded questions. Multiple questions with the same intent can cause seekers to spend more time finding the best answer to their question, and make writers feel they need to answer multiple versions of the same question. Quora values canonical questions because they provide a better experience to active seekers and writers, and offer more value to both of these groups in the long term.\n",
    "\n",
    "Currently, Quora uses a Random Forest model to identify duplicate questions. In this competition, Kagglers are challenged to tackle this natural language processing problem by applying advanced techniques to classify whether question pairs are duplicates or not. Doing so will make it easier to find high quality answers to questions resulting in an improved experience for Quora writers, seekers, and readers.\n",
    "\n",
    "## Evaluation\n",
    "Submissions are evaluated on the log loss between the predicted values and the ground truth.  \n",
    "\n",
    "$$-log P(y_{true}|~y_{pred}) = -(y_{true} * log(y_{pred}) + (1-y_{true}) * log(1-y_{pred}))$$\n",
    "\n",
    "## Solutions\n",
    "1. Abhishek Thakur. [Is That a Duplicate Quora Question?](https://www.linkedin.com/pulse/duplicate-quora-question-abhishek-thakur)  \n",
    "2. @the1owl. [Matching ¿Que? for Quora - End to End 0.33719 PB](https://www.kaggle.com/the1owl/quora-question-pairs/matching-que-for-quora-end-to-end-0-33719-pb)  \n",
    "3. @qianqian. [fm benchmark with tfidf around 29](https://github.com/qqgeogor/kaggle_quora_benchmark)\n",
    "\n",
    "---\n",
    "## Loading data\n",
    "Required libraries"
   ]
  },
  {
   "cell_type": "code",
   "execution_count": 598,
   "metadata": {
    "collapsed": false,
    "deletable": true,
    "editable": true
   },
   "outputs": [],
   "source": [
    "import time\n",
    "import warnings\n",
    "warnings.filterwarnings('ignore')\n",
    "\n",
    "import pickle\n",
    "import pandas as pd\n",
    "import numpy as np\n",
    "import difflib\n",
    "\n",
    "import seaborn as sns\n",
    "import matplotlib.pyplot as plt\n",
    "%matplotlib inline\n",
    "\n",
    "import nltk\n",
    "from nltk.stem import WordNetLemmatizer\n",
    "from nltk.corpus import stopwords\n",
    "stops = set(stopwords.words(\"english\"))\n",
    "\n",
    "from fuzzywuzzy import fuzz\n",
    "#import ml_insights as mli\n",
    "import scipy.spatial as sp\n",
    "from sklearn import metrics\n",
    "from sklearn.metrics import log_loss\n",
    "from sklearn.metrics.pairwise import cosine_similarity\n",
    "from sklearn.feature_extraction.text import CountVectorizer, TfidfVectorizer\n",
    "from sklearn.pipeline import Pipeline\n",
    "from sklearn.model_selection import cross_val_score"
   ]
  },
  {
   "cell_type": "markdown",
   "metadata": {
    "deletable": true,
    "editable": true
   },
   "source": [
    "Data"
   ]
  },
  {
   "cell_type": "code",
   "execution_count": 244,
   "metadata": {
    "collapsed": true,
    "deletable": true,
    "editable": true
   },
   "outputs": [],
   "source": [
    "path_to_data = '/home/data/share/quora/'\n",
    "\n",
    "train_data = pd.read_csv(path_to_data + 'train.csv')\n",
    "test_data = pd.read_csv(path_to_data + 'test.csv')"
   ]
  },
  {
   "cell_type": "code",
   "execution_count": 245,
   "metadata": {
    "collapsed": false,
    "deletable": true,
    "editable": true
   },
   "outputs": [
    {
     "name": "stdout",
     "output_type": "stream",
     "text": [
      "Train size: 404290\n",
      "Test size: 2345796\n"
     ]
    }
   ],
   "source": [
    "print(\"Train size: %d\" % train_data.shape[0])\n",
    "print(\"Test size: %d\" % test_data.shape[0])"
   ]
  },
  {
   "cell_type": "markdown",
   "metadata": {
    "deletable": true,
    "editable": true
   },
   "source": [
    "Sample submission"
   ]
  },
  {
   "cell_type": "code",
   "execution_count": 246,
   "metadata": {
    "collapsed": false,
    "deletable": true,
    "editable": true
   },
   "outputs": [
    {
     "data": {
      "text/html": [
       "<div>\n",
       "<table border=\"1\" class=\"dataframe\">\n",
       "  <thead>\n",
       "    <tr style=\"text-align: right;\">\n",
       "      <th></th>\n",
       "      <th>test_id</th>\n",
       "      <th>is_duplicate</th>\n",
       "    </tr>\n",
       "  </thead>\n",
       "  <tbody>\n",
       "    <tr>\n",
       "      <th>0</th>\n",
       "      <td>0</td>\n",
       "      <td>1</td>\n",
       "    </tr>\n",
       "    <tr>\n",
       "      <th>1</th>\n",
       "      <td>1</td>\n",
       "      <td>1</td>\n",
       "    </tr>\n",
       "    <tr>\n",
       "      <th>2</th>\n",
       "      <td>2</td>\n",
       "      <td>1</td>\n",
       "    </tr>\n",
       "    <tr>\n",
       "      <th>3</th>\n",
       "      <td>3</td>\n",
       "      <td>1</td>\n",
       "    </tr>\n",
       "    <tr>\n",
       "      <th>4</th>\n",
       "      <td>4</td>\n",
       "      <td>1</td>\n",
       "    </tr>\n",
       "  </tbody>\n",
       "</table>\n",
       "</div>"
      ],
      "text/plain": [
       "   test_id  is_duplicate\n",
       "0        0             1\n",
       "1        1             1\n",
       "2        2             1\n",
       "3        3             1\n",
       "4        4             1"
      ]
     },
     "execution_count": 246,
     "metadata": {},
     "output_type": "execute_result"
    }
   ],
   "source": [
    "sample = pd.read_csv(path_to_data + 'sample_submission.csv')\n",
    "sample.head()"
   ]
  },
  {
   "cell_type": "markdown",
   "metadata": {
    "deletable": true,
    "editable": true
   },
   "source": [
    "Features"
   ]
  },
  {
   "cell_type": "code",
   "execution_count": 453,
   "metadata": {
    "collapsed": true,
    "deletable": true,
    "editable": true
   },
   "outputs": [],
   "source": [
    "X_train = pd.DataFrame()\n",
    "X_test = pd.DataFrame()"
   ]
  },
  {
   "cell_type": "markdown",
   "metadata": {
    "deletable": true,
    "editable": true
   },
   "source": [
    "## Pickling data"
   ]
  },
  {
   "cell_type": "code",
   "execution_count": 248,
   "metadata": {
    "collapsed": true,
    "deletable": true,
    "editable": true
   },
   "outputs": [],
   "source": [
    "def pickling_data(name, data):\n",
    "    out = open(name + '.pkl', 'wb')\n",
    "    pickle.dump(data, out)\n",
    "    out.close()\n",
    "    \n",
    "def load_data(name):\n",
    "    pkl_file = open(name + '.pkl', 'rb')\n",
    "    data = pickle.load(pkl_file)\n",
    "    pkl_file.close()\n",
    "    return data"
   ]
  },
  {
   "cell_type": "markdown",
   "metadata": {
    "deletable": true,
    "editable": true
   },
   "source": [
    "## Data exploration"
   ]
  },
  {
   "cell_type": "code",
   "execution_count": 249,
   "metadata": {
    "collapsed": false,
    "deletable": true,
    "editable": true
   },
   "outputs": [
    {
     "name": "stdout",
     "output_type": "stream",
     "text": [
      "Columns: ['id', 'qid1', 'qid2', 'question1', 'question2', 'is_duplicate']\n"
     ]
    }
   ],
   "source": [
    "print(\"Columns: %s\" % list(train_data.columns))"
   ]
  },
  {
   "cell_type": "markdown",
   "metadata": {
    "deletable": true,
    "editable": true
   },
   "source": [
    "Brief info about columns"
   ]
  },
  {
   "cell_type": "code",
   "execution_count": 250,
   "metadata": {
    "collapsed": false,
    "deletable": true,
    "editable": true
   },
   "outputs": [
    {
     "name": "stdout",
     "output_type": "stream",
     "text": [
      "<class 'pandas.core.frame.DataFrame'>\n",
      "RangeIndex: 404290 entries, 0 to 404289\n",
      "Data columns (total 6 columns):\n",
      "id              404290 non-null int64\n",
      "qid1            404290 non-null int64\n",
      "qid2            404290 non-null int64\n",
      "question1       404290 non-null object\n",
      "question2       404288 non-null object\n",
      "is_duplicate    404290 non-null int64\n",
      "dtypes: int64(4), object(2)\n",
      "memory usage: 18.5+ MB\n"
     ]
    }
   ],
   "source": [
    "train_data.info()"
   ]
  },
  {
   "cell_type": "code",
   "execution_count": 251,
   "metadata": {
    "collapsed": false,
    "deletable": true,
    "editable": true
   },
   "outputs": [
    {
     "name": "stdout",
     "output_type": "stream",
     "text": [
      "<class 'pandas.core.frame.DataFrame'>\n",
      "RangeIndex: 2345796 entries, 0 to 2345795\n",
      "Data columns (total 3 columns):\n",
      "test_id      int64\n",
      "question1    object\n",
      "question2    object\n",
      "dtypes: int64(1), object(2)\n",
      "memory usage: 53.7+ MB\n"
     ]
    }
   ],
   "source": [
    "test_data.info()"
   ]
  },
  {
   "cell_type": "markdown",
   "metadata": {
    "deletable": true,
    "editable": true
   },
   "source": [
    "Missing values"
   ]
  },
  {
   "cell_type": "code",
   "execution_count": 252,
   "metadata": {
    "collapsed": false,
    "deletable": true,
    "editable": true
   },
   "outputs": [
    {
     "data": {
      "text/html": [
       "<div>\n",
       "<table border=\"1\" class=\"dataframe\">\n",
       "  <thead>\n",
       "    <tr style=\"text-align: right;\">\n",
       "      <th></th>\n",
       "      <th>id</th>\n",
       "      <th>qid1</th>\n",
       "      <th>qid2</th>\n",
       "      <th>question1</th>\n",
       "      <th>question2</th>\n",
       "      <th>is_duplicate</th>\n",
       "    </tr>\n",
       "  </thead>\n",
       "  <tbody>\n",
       "    <tr>\n",
       "      <th>105780</th>\n",
       "      <td>105780</td>\n",
       "      <td>174363</td>\n",
       "      <td>174364</td>\n",
       "      <td>How can I develop android app?</td>\n",
       "      <td>NaN</td>\n",
       "      <td>0</td>\n",
       "    </tr>\n",
       "    <tr>\n",
       "      <th>201841</th>\n",
       "      <td>201841</td>\n",
       "      <td>303951</td>\n",
       "      <td>174364</td>\n",
       "      <td>How can I create an Android app?</td>\n",
       "      <td>NaN</td>\n",
       "      <td>0</td>\n",
       "    </tr>\n",
       "  </tbody>\n",
       "</table>\n",
       "</div>"
      ],
      "text/plain": [
       "            id    qid1    qid2                         question1 question2  \\\n",
       "105780  105780  174363  174364    How can I develop android app?       NaN   \n",
       "201841  201841  303951  174364  How can I create an Android app?       NaN   \n",
       "\n",
       "        is_duplicate  \n",
       "105780             0  \n",
       "201841             0  "
      ]
     },
     "execution_count": 252,
     "metadata": {},
     "output_type": "execute_result"
    }
   ],
   "source": [
    "train_data[train_data.question2.isnull()]"
   ]
  },
  {
   "cell_type": "code",
   "execution_count": 253,
   "metadata": {
    "collapsed": false,
    "deletable": true,
    "editable": true
   },
   "outputs": [
    {
     "data": {
      "text/html": [
       "<div>\n",
       "<table border=\"1\" class=\"dataframe\">\n",
       "  <thead>\n",
       "    <tr style=\"text-align: right;\">\n",
       "      <th></th>\n",
       "      <th>test_id</th>\n",
       "      <th>question1</th>\n",
       "      <th>question2</th>\n",
       "    </tr>\n",
       "  </thead>\n",
       "  <tbody>\n",
       "    <tr>\n",
       "      <th>379205</th>\n",
       "      <td>379205</td>\n",
       "      <td>How I can learn android app development?</td>\n",
       "      <td>NaN</td>\n",
       "    </tr>\n",
       "    <tr>\n",
       "      <th>817520</th>\n",
       "      <td>817520</td>\n",
       "      <td>How real can learn android app development?</td>\n",
       "      <td>NaN</td>\n",
       "    </tr>\n",
       "    <tr>\n",
       "      <th>943911</th>\n",
       "      <td>943911</td>\n",
       "      <td>How app development?</td>\n",
       "      <td>NaN</td>\n",
       "    </tr>\n",
       "    <tr>\n",
       "      <th>1270024</th>\n",
       "      <td>1270024</td>\n",
       "      <td>How I can learn app development?</td>\n",
       "      <td>NaN</td>\n",
       "    </tr>\n",
       "  </tbody>\n",
       "</table>\n",
       "</div>"
      ],
      "text/plain": [
       "         test_id                                    question1 question2\n",
       "379205    379205     How I can learn android app development?       NaN\n",
       "817520    817520  How real can learn android app development?       NaN\n",
       "943911    943911                         How app development?       NaN\n",
       "1270024  1270024             How I can learn app development?       NaN"
      ]
     },
     "execution_count": 253,
     "metadata": {},
     "output_type": "execute_result"
    }
   ],
   "source": [
    "test_data[test_data.question2.isnull()]"
   ]
  },
  {
   "cell_type": "markdown",
   "metadata": {
    "deletable": true,
    "editable": true
   },
   "source": [
    "Replace NaN on string \"empty\""
   ]
  },
  {
   "cell_type": "code",
   "execution_count": 254,
   "metadata": {
    "collapsed": true,
    "deletable": true,
    "editable": true
   },
   "outputs": [],
   "source": [
    "train_data.fillna(value='empty', inplace=True)\n",
    "test_data.fillna(value='empty', inplace=True)"
   ]
  },
  {
   "cell_type": "markdown",
   "metadata": {
    "deletable": true,
    "editable": true
   },
   "source": [
    "Target"
   ]
  },
  {
   "cell_type": "code",
   "execution_count": 456,
   "metadata": {
    "collapsed": false,
    "deletable": true,
    "editable": true
   },
   "outputs": [
    {
     "data": {
      "image/png": "[encoded data removed]",
      "text/plain": [
       "<matplotlib.figure.Figure at 0x7fb0ae316080>"
      ]
     },
     "metadata": {},
     "output_type": "display_data"
    }
   ],
   "source": [
    "plt.figure(figsize=(5,2))\n",
    "Y_train = train_data['is_duplicate']\n",
    "\n",
    "plt.title(\"Target\")\n",
    "(Y_train.value_counts() / len(train_data)).plot(kind='bar');"
   ]
  },
  {
   "cell_type": "markdown",
   "metadata": {
    "deletable": true,
    "editable": true
   },
   "source": [
    "## Feature extraction"
   ]
  },
  {
   "cell_type": "code",
   "execution_count": 256,
   "metadata": {
    "collapsed": true,
    "deletable": true,
    "editable": true
   },
   "outputs": [],
   "source": [
    "questions_train = pd.concat((train_data.question1, train_data.question2))\n",
    "questions_test = pd.concat((test_data.question1, test_data.question2))\n",
    "all_questions = pd.concat((questions_train, questions_test))"
   ]
  },
  {
   "cell_type": "code",
   "execution_count": 257,
   "metadata": {
    "collapsed": false,
    "deletable": true,
    "editable": true
   },
   "outputs": [
    {
     "name": "stdout",
     "output_type": "stream",
     "text": [
      "537362/808580 unique questions in Train\n",
      "4363832/4691592 unique questions in Test\n",
      "4789032/5500172 unique questions in all data\n"
     ]
    }
   ],
   "source": [
    "print('%d/%d unique questions in Train' % (questions_train.nunique(), len(questions_train)))\n",
    "print('%d/%d unique questions in Test' % (questions_test.nunique(), len(questions_test)))\n",
    "print('%d/%d unique questions in all data' % (all_questions.nunique(), len(all_questions)))"
   ]
  },
  {
   "cell_type": "markdown",
   "metadata": {
    "deletable": true,
    "editable": true
   },
   "source": [
    "#### Count words in questions"
   ]
  },
  {
   "cell_type": "code",
   "execution_count": 457,
   "metadata": {
    "collapsed": false,
    "deletable": true,
    "editable": true
   },
   "outputs": [
    {
     "data": {
      "image/png": "[encoded data removed]",
      "text/plain": [
       "<matplotlib.figure.Figure at 0x7fb07e041908>"
      ]
     },
     "metadata": {},
     "output_type": "display_data"
    },
    {
     "name": "stdout",
     "output_type": "stream",
     "text": [
      "Max count of words in Train questions: 237\n",
      "Max count of words in Test questions: 238\n",
      "\n",
      "Min count of words in Train questions: 1\n",
      "Min count of words in Test questions: 1\n",
      "\n",
      "Mean count of words in Train questions: 11\n",
      "Mean count of words in Test questions: 11\n",
      "\n",
      "Median count of words in Train questions: 10\n",
      "Median count of words in Test questions: 10\n",
      "\n"
     ]
    }
   ],
   "source": [
    "count_train = questions_train.apply(lambda x: len(x.split()))\n",
    "count_test = questions_test.apply(lambda x: len(x.split()))\n",
    "\n",
    "plt.figure(figsize=(10,5))\n",
    "plt.hist(count_train, range=[0,50], bins=50, rwidth=.7, normed=True, color='red', label='Train')\n",
    "plt.hist(count_test, range=[0,50], bins=50, rwidth=.7, normed=True, alpha=0.8, label='Test')\n",
    "plt.title(\"Distribution of words count in questions\", fontsize=18)\n",
    "plt.legend()\n",
    "plt.show()\n",
    "\n",
    "print(\"Max count of words in Train questions: %d\" % (count_train.max()))\n",
    "print(\"Max count of words in Test questions: %d\\n\" % (count_test.max()))\n",
    "print(\"Min count of words in Train questions: %d\" % (count_train.min()))\n",
    "print(\"Min count of words in Test questions: %d\\n\" % (count_test.min()))\n",
    "print(\"Mean count of words in Train questions: %d\" % (count_train.mean()))\n",
    "print(\"Mean count of words in Test questions: %d\\n\" % (count_test.mean()))\n",
    "print(\"Median count of words in Train questions: %d\" % (count_train.median()))\n",
    "print(\"Median count of words in Test questions: %d\\n\" % (count_test.median()))"
   ]
  },
  {
   "cell_type": "code",
   "execution_count": 458,
   "metadata": {
    "collapsed": true,
    "deletable": true,
    "editable": true
   },
   "outputs": [],
   "source": [
    "n_train = len(train_data)\n",
    "n_test = len(test_data)"
   ]
  },
  {
   "cell_type": "code",
   "execution_count": 459,
   "metadata": {
    "collapsed": false,
    "deletable": true,
    "editable": true
   },
   "outputs": [],
   "source": [
    "X_train['word_count_q1'] = count_train[:n_train]\n",
    "X_train['word_count_q2'] = count_train[n_train:]\n",
    "X_test['word_count_q1'] = count_test[:n_test]\n",
    "X_test['word_count_q2'] = count_test[n_test:]"
   ]
  },
  {
   "cell_type": "markdown",
   "metadata": {
    "deletable": true,
    "editable": true
   },
   "source": [
    "#### Abs(Word_Count(q1) - Word_Count(q2))"
   ]
  },
  {
   "cell_type": "code",
   "execution_count": 460,
   "metadata": {
    "collapsed": false,
    "deletable": true,
    "editable": true
   },
   "outputs": [
    {
     "data": {
      "image/png": "[encoded data removed]",
      "text/plain": [
       "<matplotlib.figure.Figure at 0x7faeb545f3c8>"
      ]
     },
     "metadata": {},
     "output_type": "display_data"
    }
   ],
   "source": [
    "diff_count_train = np.abs(count_train[:n_train] - count_train[n_train:])\n",
    "diff_count_test = np.abs(count_test[:n_test] - count_test[n_test:])\n",
    "\n",
    "plt.figure(figsize=(10,5))\n",
    "plt.hist(diff_count_train, range=[0,40], bins=40, rwidth=.7, normed=True, color='red', label='Train')\n",
    "plt.hist(diff_count_test, range=[0,40], bins=40, rwidth=.7, normed=True, alpha=0.8, label='Test')\n",
    "plt.title(\"Distribution differences of lengths\", fontsize=18)\n",
    "plt.legend()\n",
    "plt.show()"
   ]
  },
  {
   "cell_type": "code",
   "execution_count": 461,
   "metadata": {
    "collapsed": false,
    "deletable": true,
    "editable": true
   },
   "outputs": [
    {
     "data": {
      "text/html": [
       "<div>\n",
       "<table border=\"1\" class=\"dataframe\">\n",
       "  <thead>\n",
       "    <tr style=\"text-align: right;\">\n",
       "      <th></th>\n",
       "      <th>word_count_q1</th>\n",
       "      <th>word_count_q2</th>\n",
       "      <th>diff_word_count</th>\n",
       "    </tr>\n",
       "  </thead>\n",
       "  <tbody>\n",
       "    <tr>\n",
       "      <th>0</th>\n",
       "      <td>14</td>\n",
       "      <td>12</td>\n",
       "      <td>2</td>\n",
       "    </tr>\n",
       "    <tr>\n",
       "      <th>1</th>\n",
       "      <td>8</td>\n",
       "      <td>13</td>\n",
       "      <td>5</td>\n",
       "    </tr>\n",
       "    <tr>\n",
       "      <th>2</th>\n",
       "      <td>14</td>\n",
       "      <td>10</td>\n",
       "      <td>4</td>\n",
       "    </tr>\n",
       "    <tr>\n",
       "      <th>3</th>\n",
       "      <td>11</td>\n",
       "      <td>9</td>\n",
       "      <td>2</td>\n",
       "    </tr>\n",
       "    <tr>\n",
       "      <th>4</th>\n",
       "      <td>13</td>\n",
       "      <td>7</td>\n",
       "      <td>6</td>\n",
       "    </tr>\n",
       "  </tbody>\n",
       "</table>\n",
       "</div>"
      ],
      "text/plain": [
       "   word_count_q1  word_count_q2  diff_word_count\n",
       "0             14             12                2\n",
       "1              8             13                5\n",
       "2             14             10                4\n",
       "3             11              9                2\n",
       "4             13              7                6"
      ]
     },
     "execution_count": 461,
     "metadata": {},
     "output_type": "execute_result"
    }
   ],
   "source": [
    "X_train['diff_word_count'] = diff_count_train\n",
    "X_test['diff_word_count'] = diff_count_test\n",
    "\n",
    "X_train.head()"
   ]
  },
  {
   "cell_type": "code",
   "execution_count": 462,
   "metadata": {
    "collapsed": false,
    "deletable": true,
    "editable": true
   },
   "outputs": [
    {
     "data": {
      "image/png": "[encoded data removed]",
      "text/plain": [
       "<matplotlib.figure.Figure at 0x7faf180c4630>"
      ]
     },
     "metadata": {},
     "output_type": "display_data"
    }
   ],
   "source": [
    "is_dup = Y_train == 1\n",
    "\n",
    "plt.figure(figsize=(10,5))\n",
    "plt.hist(diff_count_train[is_dup], range=[0,40], bins=40, rwidth=.9, normed=True, color='g', label='Duplicates')\n",
    "plt.hist(diff_count_train[~is_dup], range=[0,40], bins=40, rwidth=.9, normed=True, color='y', alpha=0.6, label='Not duplicates')\n",
    "plt.title(\"Distribution of duplicates and non-duplicates\", fontsize=18)\n",
    "plt.legend()\n",
    "plt.show()"
   ]
  },
  {
   "cell_type": "markdown",
   "metadata": {
    "deletable": true,
    "editable": true
   },
   "source": [
    "#### Length questions without stopwords"
   ]
  },
  {
   "cell_type": "code",
   "execution_count": 463,
   "metadata": {
    "collapsed": false,
    "deletable": true,
    "editable": true
   },
   "outputs": [
    {
     "data": {
      "image/png": "[encoded data removed]",
      "text/plain": [
       "<matplotlib.figure.Figure at 0x7fae431f7eb8>"
      ]
     },
     "metadata": {},
     "output_type": "display_data"
    }
   ],
   "source": [
    "count_train = questions_train.apply(lambda x: len([w for w in x.split() if w.lower() not in stops]))\n",
    "count_test = questions_test.apply(lambda x: len([w for w in x.split() if w.lower() not in stops]))\n",
    "\n",
    "plt.figure(figsize=(10,5))\n",
    "plt.hist(count_train, range=[0,50], bins=50, rwidth=.7, normed=True, color='red', label='Train')\n",
    "plt.hist(count_test, range=[0,50], bins=50, rwidth=.7, normed=True, alpha=0.8, label='Test')\n",
    "plt.title(\"Distribution of words count in questions without stopwords\", fontsize=18)\n",
    "plt.legend()\n",
    "plt.show()"
   ]
  },
  {
   "cell_type": "code",
   "execution_count": 464,
   "metadata": {
    "collapsed": false,
    "deletable": true,
    "editable": true
   },
   "outputs": [],
   "source": [
    "X_train['nonstop_count_q1'] = count_train[:n_train]\n",
    "X_train['nonstop_count_q2'] = count_train[n_train:]\n",
    "X_test['nonstop_count_q1'] = count_test[:n_test]\n",
    "X_test['nonstop_count_q2'] = count_test[n_test:]"
   ]
  },
  {
   "cell_type": "markdown",
   "metadata": {
    "deletable": true,
    "editable": true
   },
   "source": [
    "#### Abs(Word_Count(q1) - Word_Count(q2)) without stopwords"
   ]
  },
  {
   "cell_type": "code",
   "execution_count": 465,
   "metadata": {
    "collapsed": false,
    "deletable": true,
    "editable": true
   },
   "outputs": [
    {
     "data": {
      "image/png": "[encoded data removed]",
      "text/plain": [
       "<matplotlib.figure.Figure at 0x7faeb545fcf8>"
      ]
     },
     "metadata": {},
     "output_type": "display_data"
    }
   ],
   "source": [
    "diff_count_train = np.abs(count_train[:n_train] - count_train[n_train:])\n",
    "diff_count_test = np.abs(count_test[:n_test] - count_test[n_test:])\n",
    "\n",
    "plt.figure(figsize=(10,5))\n",
    "plt.hist(diff_count_train, range=[0,40], bins=40, rwidth=.7, normed=True, color='red', label='Train')\n",
    "plt.hist(diff_count_test, range=[0,40], bins=40, rwidth=.7, normed=True, alpha=0.8, label='Test')\n",
    "plt.title(\"Distribution differences of lengths\", fontsize=18)\n",
    "plt.legend()\n",
    "plt.show()"
   ]
  },
  {
   "cell_type": "code",
   "execution_count": 466,
   "metadata": {
    "collapsed": false,
    "deletable": true,
    "editable": true
   },
   "outputs": [
    {
     "data": {
      "text/html": [
       "<div>\n",
       "<table border=\"1\" class=\"dataframe\">\n",
       "  <thead>\n",
       "    <tr style=\"text-align: right;\">\n",
       "      <th></th>\n",
       "      <th>word_count_q1</th>\n",
       "      <th>word_count_q2</th>\n",
       "      <th>diff_word_count</th>\n",
       "      <th>nonstop_count_q1</th>\n",
       "      <th>nonstop_count_q2</th>\n",
       "      <th>diff_nonstopword_count</th>\n",
       "    </tr>\n",
       "  </thead>\n",
       "  <tbody>\n",
       "    <tr>\n",
       "      <th>0</th>\n",
       "      <td>14</td>\n",
       "      <td>12</td>\n",
       "      <td>2</td>\n",
       "      <td>7</td>\n",
       "      <td>6</td>\n",
       "      <td>1</td>\n",
       "    </tr>\n",
       "    <tr>\n",
       "      <th>1</th>\n",
       "      <td>8</td>\n",
       "      <td>13</td>\n",
       "      <td>5</td>\n",
       "      <td>4</td>\n",
       "      <td>9</td>\n",
       "      <td>5</td>\n",
       "    </tr>\n",
       "    <tr>\n",
       "      <th>2</th>\n",
       "      <td>14</td>\n",
       "      <td>10</td>\n",
       "      <td>4</td>\n",
       "      <td>6</td>\n",
       "      <td>5</td>\n",
       "      <td>1</td>\n",
       "    </tr>\n",
       "    <tr>\n",
       "      <th>3</th>\n",
       "      <td>11</td>\n",
       "      <td>9</td>\n",
       "      <td>2</td>\n",
       "      <td>4</td>\n",
       "      <td>5</td>\n",
       "      <td>1</td>\n",
       "    </tr>\n",
       "    <tr>\n",
       "      <th>4</th>\n",
       "      <td>13</td>\n",
       "      <td>7</td>\n",
       "      <td>6</td>\n",
       "      <td>10</td>\n",
       "      <td>5</td>\n",
       "      <td>5</td>\n",
       "    </tr>\n",
       "  </tbody>\n",
       "</table>\n",
       "</div>"
      ],
      "text/plain": [
       "   word_count_q1  word_count_q2  diff_word_count  nonstop_count_q1  \\\n",
       "0             14             12                2                 7   \n",
       "1              8             13                5                 4   \n",
       "2             14             10                4                 6   \n",
       "3             11              9                2                 4   \n",
       "4             13              7                6                10   \n",
       "\n",
       "   nonstop_count_q2  diff_nonstopword_count  \n",
       "0                 6                       1  \n",
       "1                 9                       5  \n",
       "2                 5                       1  \n",
       "3                 5                       1  \n",
       "4                 5                       5  "
      ]
     },
     "execution_count": 466,
     "metadata": {},
     "output_type": "execute_result"
    }
   ],
   "source": [
    "X_train['diff_nonstopword_count'] = diff_count_train\n",
    "X_test['diff_nonstopword_count'] = diff_count_test\n",
    "\n",
    "X_train.head()"
   ]
  },
  {
   "cell_type": "markdown",
   "metadata": {
    "collapsed": true,
    "deletable": true,
    "editable": true
   },
   "source": [
    "#### Different words"
   ]
  },
  {
   "cell_type": "code",
   "execution_count": 575,
   "metadata": {
    "collapsed": true,
    "deletable": true,
    "editable": true
   },
   "outputs": [],
   "source": [
    "def diff_words(q1, q2):\n",
    "    set_1 = set(q1.lower().split())\n",
    "    set_2 = set(q2.lower().split())\n",
    "    return len(set_1.symmetric_difference(set_2))"
   ]
  },
  {
   "cell_type": "code",
   "execution_count": 576,
   "metadata": {
    "collapsed": false,
    "deletable": true,
    "editable": true
   },
   "outputs": [
    {
     "name": "stdout",
     "output_type": "stream",
     "text": [
      "CPU times: user 2min 54s, sys: 4.22 ms, total: 2min 54s\n",
      "Wall time: 2min 54s\n"
     ]
    }
   ],
   "source": [
    "%%time\n",
    "\n",
    "X_train['symmetric_diff'] = [diff_words(qtrain[0].loc[i], qtrain[0].loc[n_train + i]) for i in range(n_train)]\n",
    "X_test['symmetric_diff'] = [diff_words(qtest[0].loc[i], qtest[0].loc[n_test + i]) for i in range(n_test)]"
   ]
  },
  {
   "cell_type": "code",
   "execution_count": 584,
   "metadata": {
    "collapsed": false,
    "deletable": true,
    "editable": true
   },
   "outputs": [
    {
     "data": {
      "image/png": "[encoded data removed]",
      "text/plain": [
       "<matplotlib.figure.Figure at 0x7fb072174be0>"
      ]
     },
     "metadata": {},
     "output_type": "display_data"
    }
   ],
   "source": [
    "mask = np.array(Y_train == 1)\n",
    "\n",
    "plt.figure(figsize=(10,5))\n",
    "plt.hist(X_train['symmetric_diff'][mask], bins=50, normed=True, color='red', label='Duplicates')\n",
    "plt.hist(X_train['symmetric_diff'][~mask], bins=50, normed=True, alpha=0.8, label='Non-duplicates')\n",
    "plt.title(\"Symmetric difference\", fontsize=18)\n",
    "plt.legend()\n",
    "plt.show()"
   ]
  },
  {
   "cell_type": "markdown",
   "metadata": {
    "deletable": true,
    "editable": true
   },
   "source": [
    "TO DO\n",
    "\n",
    "About distributions"
   ]
  },
  {
   "cell_type": "markdown",
   "metadata": {
    "deletable": true,
    "editable": true
   },
   "source": [
    "#### Count chars in questions"
   ]
  },
  {
   "cell_type": "code",
   "execution_count": 467,
   "metadata": {
    "collapsed": false,
    "deletable": true,
    "editable": true
   },
   "outputs": [
    {
     "data": {
      "image/png": "[encoded data removed]",
      "text/plain": [
       "<matplotlib.figure.Figure at 0x7faeba766518>"
      ]
     },
     "metadata": {},
     "output_type": "display_data"
    },
    {
     "name": "stdout",
     "output_type": "stream",
     "text": [
      "Max count of chars in Train questions: 942\n",
      "Max count of chars in Test questions: 948\n",
      "\n",
      "Min count of chars in Train questions: 1\n",
      "Min count of chars in Test questions: 1\n",
      "\n",
      "Mean count of chars in Train questions: 49\n",
      "Mean count of chars in Test questions: 50\n",
      "\n",
      "Median count of chars in Train questions: 43\n",
      "Median count of chars in Test questions: 44\n",
      "\n"
     ]
    }
   ],
   "source": [
    "count_char_train = questions_train.apply(lambda x: len(''.join(str(x).replace(' ', ''))))\n",
    "count_char_test = questions_test.apply(lambda x: len(''.join(str(x).replace(' ', ''))))\n",
    "\n",
    "plt.figure(figsize=(10,5))\n",
    "plt.hist(count_char_train, range=[0,250], bins=50, rwidth=.7, normed=True, color='red', label='Train')\n",
    "plt.hist(count_char_test, range=[0,250], bins=50, rwidth=.7, normed=True, alpha=0.8, label='Test')\n",
    "plt.title(\"Distribution of chars count in questions\", fontsize=18)\n",
    "plt.legend()\n",
    "plt.show()\n",
    "\n",
    "print(\"Max count of chars in Train questions: %d\" % (count_char_train.max()))\n",
    "print(\"Max count of chars in Test questions: %d\\n\" % (count_char_test.max()))\n",
    "print(\"Min count of chars in Train questions: %d\" % (count_char_train.min()))\n",
    "print(\"Min count of chars in Test questions: %d\\n\" % (count_char_test.min()))\n",
    "print(\"Mean count of chars in Train questions: %d\" % (count_char_train.mean()))\n",
    "print(\"Mean count of chars in Test questions: %d\\n\" % (count_char_test.mean()))\n",
    "print(\"Median count of chars in Train questions: %d\" % (count_char_train.median()))\n",
    "print(\"Median count of chars in Test questions: %d\\n\" % (count_char_test.median()))"
   ]
  },
  {
   "cell_type": "code",
   "execution_count": 468,
   "metadata": {
    "collapsed": true,
    "deletable": true,
    "editable": true
   },
   "outputs": [],
   "source": [
    "X_train['char_count_q1'] = count_char_train[:n_train]\n",
    "X_train['char_count_q2'] = count_char_train[n_train:]\n",
    "X_test['char_count_q1'] = count_char_test[:n_test]\n",
    "X_test['char_count_q2'] = count_char_test[n_test:]"
   ]
  },
  {
   "cell_type": "markdown",
   "metadata": {
    "deletable": true,
    "editable": true
   },
   "source": [
    "#### Special chars"
   ]
  },
  {
   "cell_type": "code",
   "execution_count": 469,
   "metadata": {
    "collapsed": false,
    "deletable": true,
    "editable": true
   },
   "outputs": [
    {
     "data": {
      "image/png": "[encoded data removed]",
      "text/plain": [
       "<matplotlib.figure.Figure at 0x7fae5a811e80>"
      ]
     },
     "metadata": {},
     "output_type": "display_data"
    }
   ],
   "source": [
    "spec_char_train = questions_train.apply(lambda x: len([w for w in x.split() if not w.isalpha()]))\n",
    "spec_char_test = questions_test.apply(lambda x: len([w for w in x.split() if not w.isalpha()]))\n",
    "\n",
    "plt.figure(figsize=(10,5))\n",
    "plt.hist(spec_char_train, bins=25, rwidth=.7, normed=True, color='red', label='Train')\n",
    "plt.hist(spec_char_test, bins=25, rwidth=.7, normed=True, alpha=0.8, label='Test')\n",
    "plt.title(\"Distribution of special chars in questions\", fontsize=18)\n",
    "plt.legend()\n",
    "plt.show()"
   ]
  },
  {
   "cell_type": "code",
   "execution_count": 470,
   "metadata": {
    "collapsed": true,
    "deletable": true,
    "editable": true
   },
   "outputs": [],
   "source": [
    "X_train['spec_char_q1'] = spec_char_train[:n_train]\n",
    "X_train['spec_char_q2'] = spec_char_train[n_train:]\n",
    "X_test['spec_char_q1'] = spec_char_test[:n_test]\n",
    "X_test['spec_char_q2'] = spec_char_test[n_test:]"
   ]
  },
  {
   "cell_type": "markdown",
   "metadata": {
    "deletable": true,
    "editable": true
   },
   "source": [
    "#### Match ratio"
   ]
  },
  {
   "cell_type": "code",
   "execution_count": 471,
   "metadata": {
    "collapsed": true,
    "deletable": true,
    "editable": true
   },
   "outputs": [],
   "source": [
    "def diff_ratio(q1, q2):\n",
    "    seq = difflib.SequenceMatcher()\n",
    "    seq.set_seqs(str(q1).lower(), str(q2).lower())\n",
    "    return seq.ratio()"
   ]
  },
  {
   "cell_type": "code",
   "execution_count": 472,
   "metadata": {
    "collapsed": false,
    "deletable": true,
    "editable": true
   },
   "outputs": [
    {
     "name": "stdout",
     "output_type": "stream",
     "text": [
      "CPU times: user 10min 53s, sys: 55.8 ms, total: 10min 54s\n",
      "Wall time: 10min 54s\n"
     ]
    }
   ],
   "source": [
    "%%time\n",
    "\n",
    "X_train['match_ratio'] = train_data.apply(lambda r: diff_ratio(r.question1, r.question2), axis=1) \n",
    "X_test['match_ratio'] = test_data.apply(lambda r: diff_ratio(r.question1, r.question2), axis=1) "
   ]
  },
  {
   "cell_type": "code",
   "execution_count": 473,
   "metadata": {
    "collapsed": false,
    "deletable": true,
    "editable": true
   },
   "outputs": [
    {
     "data": {
      "image/png": "[encoded data removed]",
      "text/plain": [
       "<matplotlib.figure.Figure at 0x7faeb30ba5c0>"
      ]
     },
     "metadata": {},
     "output_type": "display_data"
    }
   ],
   "source": [
    "mask = np.array(Y_train == 1)\n",
    "\n",
    "plt.figure(figsize=(10,5))\n",
    "plt.hist(X_train['match_ratio'][mask], bins=50, normed=True, color='red', label='Duplicates')\n",
    "plt.hist(X_train['match_ratio'][~mask], bins=50, normed=True, alpha=0.8, label='Non-duplicates')\n",
    "plt.title(\"Match ratio\", fontsize=18)\n",
    "plt.legend()\n",
    "plt.show()"
   ]
  },
  {
   "cell_type": "markdown",
   "metadata": {
    "deletable": true,
    "editable": true
   },
   "source": [
    "### Fuzzy features\n",
    "[FuzzyWuzzy](https://github.com/seatgeek/fuzzywuzzy): Fuzzy string matching like a boss. It uses Levenshtein Distance to calculate the differences between sequences in a simple-to-use package."
   ]
  },
  {
   "cell_type": "code",
   "execution_count": 586,
   "metadata": {
    "collapsed": false,
    "deletable": true,
    "editable": true
   },
   "outputs": [
    {
     "name": "stdout",
     "output_type": "stream",
     "text": [
      "CPU times: user 32min 24s, sys: 1.01 s, total: 32min 25s\n",
      "Wall time: 32min 25s\n"
     ]
    }
   ],
   "source": [
    "%%time\n",
    "\n",
    "X_train['fuzz_qratio'] = train_data.apply(lambda x: fuzz.QRatio(str(x['question1']), str(x['question2'])), axis=1)\n",
    "X_train['fuzz_WRatio'] = train_data.apply(lambda x: fuzz.WRatio(str(x['question1']), str(x['question2'])), axis=1)\n",
    "X_train['fuzz_partial_ratio'] = train_data.apply(lambda x: fuzz.partial_ratio(str(x['question1']), str(x['question2'])), axis=1)\n",
    "X_train['fuzz_partial_token_set_ratio'] = train_data.apply(lambda x: fuzz.partial_token_set_ratio(str(x['question1']), str(x['question2'])), axis=1)\n",
    "X_train['fuzz_partial_token_sort_ratio'] = train_data.apply(lambda x: fuzz.partial_token_sort_ratio(str(x['question1']), str(x['question2'])), axis=1)\n",
    "X_train['fuzz_token_set_ratio'] = train_data.apply(lambda x: fuzz.token_set_ratio(str(x['question1']), str(x['question2'])), axis=1)\n",
    "X_train['fuzz_token_sort_ratio'] = train_data.apply(lambda x: fuzz.token_sort_ratio(str(x['question1']), str(x['question2'])), axis=1)\n",
    "\n",
    "X_test['fuzz_qratio'] = test_data.apply(lambda x: fuzz.QRatio(str(x['question1']), str(x['question2'])), axis=1)\n",
    "X_test['fuzz_WRatio'] = test_data.apply(lambda x: fuzz.WRatio(str(x['question1']), str(x['question2'])), axis=1)\n",
    "X_test['fuzz_partial_ratio'] = test_data.apply(lambda x: fuzz.partial_ratio(str(x['question1']), str(x['question2'])), axis=1)\n",
    "X_test['fuzz_partial_token_set_ratio'] = test_data.apply(lambda x: fuzz.partial_token_set_ratio(str(x['question1']), str(x['question2'])), axis=1)\n",
    "X_test['fuzz_partial_token_sort_ratio'] = test_data.apply(lambda x: fuzz.partial_token_sort_ratio(str(x['question1']), str(x['question2'])), axis=1)\n",
    "X_test['fuzz_token_set_ratio'] = test_data.apply(lambda x: fuzz.token_set_ratio(str(x['question1']), str(x['question2'])), axis=1)\n",
    "X_test['fuzz_token_sort_ratio'] = test_data.apply(lambda x: fuzz.token_sort_ratio(str(x['question1']), str(x['question2'])), axis=1)"
   ]
  },
  {
   "cell_type": "code",
   "execution_count": null,
   "metadata": {
    "collapsed": true,
    "deletable": true,
    "editable": true
   },
   "outputs": [],
   "source": []
  },
  {
   "cell_type": "code",
   "execution_count": null,
   "metadata": {
    "collapsed": true,
    "deletable": true,
    "editable": true
   },
   "outputs": [],
   "source": []
  },
  {
   "cell_type": "code",
   "execution_count": null,
   "metadata": {
    "collapsed": true,
    "deletable": true,
    "editable": true
   },
   "outputs": [],
   "source": []
  },
  {
   "cell_type": "markdown",
   "metadata": {
    "deletable": true,
    "editable": true
   },
   "source": [
    "### Text processing"
   ]
  },
  {
   "cell_type": "code",
   "execution_count": 333,
   "metadata": {
    "collapsed": false,
    "deletable": true,
    "editable": true
   },
   "outputs": [],
   "source": [
    "def lemmatization_word(word):\n",
    "    pos = ['a','v','n','r']\n",
    "    lemmatizer = WordNetLemmatizer()\n",
    "    for p in pos:\n",
    "        temp = lemmatizer.lemmatize(word, p)\n",
    "        if temp != word:\n",
    "            return temp\n",
    "    return word  \n",
    "\n",
    "def cleaning_texts(questions, punc=False, lemma=False):\n",
    "    tokenizer = nltk.word_tokenize\n",
    "    q_tokens = [tokenizer(question) for question in questions]\n",
    "    \n",
    "    if punc:\n",
    "        q_tokens = [[word.lower() for word in tokens] \\\n",
    "                    for tokens in q_tokens]\n",
    "    else:\n",
    "        q_tokens = [[word.lower() for word in tokens \\\n",
    "                    if word.isalnum()] for tokens in q_tokens]\n",
    "    if lemma:\n",
    "        q_tokens = [[lemmatization_word(word) for word in tokens] \\\n",
    "                  for tokens in q_tokens]\n",
    "        \n",
    "    string = [' '.join(text) for text in q_tokens]\n",
    "    return string"
   ]
  },
  {
   "cell_type": "code",
   "execution_count": 334,
   "metadata": {
    "collapsed": false,
    "deletable": true,
    "editable": true
   },
   "outputs": [
    {
     "data": {
      "text/plain": [
       "['what is the step by step guide to invest in share market in india ?',\n",
       " 'what is the story of kohinoor ( koh-i-noor ) diamond ?',\n",
       " 'how can i increase the speed of my internet connection while using a vpn ?',\n",
       " 'why am i mentally very lonely ? how can i solve it ?',\n",
       " 'which one dissolve in water quikly sugar , salt , methane and carbon di oxide ?',\n",
       " 'astrology : i am a capricorn sun cap moon and cap rising ... what does that say about me ?',\n",
       " 'should i buy tiago ?',\n",
       " 'how can i be a good geologist ?',\n",
       " 'when do you use シ instead of し ?',\n",
       " 'motorola ( company ) : can i hack my charter motorolla dcx3400 ?']"
      ]
     },
     "execution_count": 334,
     "metadata": {},
     "output_type": "execute_result"
    }
   ],
   "source": [
    "cleaning_texts(questions_train[:10], punc=True)"
   ]
  },
  {
   "cell_type": "code",
   "execution_count": 171,
   "metadata": {
    "collapsed": false,
    "deletable": true,
    "editable": true
   },
   "outputs": [
    {
     "name": "stdout",
     "output_type": "stream",
     "text": [
      "CPU times: user 9min 41s, sys: 2.75 s, total: 9min 44s\n",
      "Wall time: 9min 44s\n"
     ]
    }
   ],
   "source": [
    "%%time\n",
    "\n",
    "qtrain = pd.Series(cleaning_texts(questions_train, punc=True))\n",
    "qtest = pd.Series(cleaning_texts(questions_test, punc=True))\n",
    "\n",
    "############### Saving #########################\n",
    "#\n",
    "qtrain.to_csv('questions_train.csv', index=False)\n",
    "qtest.to_csv('questions_test.csv', index=False)"
   ]
  },
  {
   "cell_type": "code",
   "execution_count": 380,
   "metadata": {
    "collapsed": false,
    "deletable": true,
    "editable": true
   },
   "outputs": [
    {
     "name": "stdout",
     "output_type": "stream",
     "text": [
      "CPU times: user 21min 32s, sys: 3.35 s, total: 21min 35s\n",
      "Wall time: 21min 35s\n"
     ]
    }
   ],
   "source": [
    "%%time\n",
    "\n",
    "qtrain_lem = pd.Series(cleaning_texts(questions_train, punc=True, lemma=True))\n",
    "qtest_lem = pd.Series(cleaning_texts(questions_test, punc=True, lemma=True))\n",
    "\n",
    "############### Saving #########################\n",
    "#\n",
    "qtrain_lem.to_csv('questions_train_lem.csv', index=False)\n",
    "qtest_lem.to_csv('questions_test_lem.csv', index=False)"
   ]
  },
  {
   "cell_type": "markdown",
   "metadata": {
    "deletable": true,
    "editable": true
   },
   "source": [
    "Loading"
   ]
  },
  {
   "cell_type": "code",
   "execution_count": 397,
   "metadata": {
    "collapsed": true,
    "deletable": true,
    "editable": true
   },
   "outputs": [],
   "source": [
    "qtrain = pd.read_csv('questions_train.csv', header=None)\n",
    "qtest = pd.read_csv('questions_test.csv', header=None).fillna('empty')\n",
    "all_questions = pd.concat((qtrain, qtest))\n",
    "\n",
    "qtrain_lem = pd.read_csv('questions_train_lem.csv', header=None)\n",
    "qtest_lem = pd.read_csv('questions_test_lem.csv', header=None).fillna('empty')\n",
    "all_questions_lem = pd.concat((qtrain_lem, qtest_lem))"
   ]
  },
  {
   "cell_type": "markdown",
   "metadata": {
    "deletable": true,
    "editable": true
   },
   "source": [
    "### Jaccard similarity  \n",
    "$$J(Q_1, Q_2) = \\frac{|Q_1 \\cap Q_2|}{|Q_1 \\cup Q_2|}$$\n",
    "[Link](https://en.wikipedia.org/wiki/Jaccard_index) to Wiki page"
   ]
  },
  {
   "cell_type": "code",
   "execution_count": 381,
   "metadata": {
    "collapsed": true,
    "deletable": true,
    "editable": true
   },
   "outputs": [],
   "source": [
    "def jaccard_sim(q1, q2, stop=True):\n",
    "    set_1 = set(q1.lower().split())\n",
    "    set_2 = set(q2.lower().split())\n",
    "    if stop:\n",
    "        set_1 = set_1 - stops\n",
    "        set_2 = set_2 - stops\n",
    "    try:\n",
    "        jaccard = len(set_1.intersection(set_2)) / len(set_1.union(set_2))\n",
    "    except ZeroDivisionError:\n",
    "        jaccard = 0\n",
    "    return jaccard"
   ]
  },
  {
   "cell_type": "code",
   "execution_count": 474,
   "metadata": {
    "collapsed": false,
    "deletable": true,
    "editable": true
   },
   "outputs": [
    {
     "name": "stdout",
     "output_type": "stream",
     "text": [
      "CPU times: user 12min 8s, sys: 13.9 ms, total: 12min 8s\n",
      "Wall time: 12min 8s\n"
     ]
    }
   ],
   "source": [
    "%%time\n",
    "\n",
    "X_train['jaccard'] = [jaccard_sim(qtrain[0].loc[i], qtrain[0].loc[n_train + i]) for i in range(n_train)]\n",
    "X_train['jaccard_stop'] = [jaccard_sim(qtrain[0].loc[i], qtrain[0].loc[n_train + i], False) for i in range(n_train)]\n",
    "X_train['jaccard_split'] = [jaccard_sim(train_data['question1'].loc[i], train_data['question2'].loc[i]) for i in range(n_train)]\n",
    "X_train['jaccard_lem'] = [jaccard_sim(qtrain_lem[0].loc[i], qtrain_lem[0].loc[n_train + i]) for i in range(n_train)]\n",
    "\n",
    "X_test['jaccard'] = [jaccard_sim(qtest[0].loc[i], qtest[0].loc[n_test + i]) for i in range(n_test)]\n",
    "X_test['jaccard_stop'] = [jaccard_sim(qtest[0].loc[i], qtest[0].loc[n_test + i], False) for i in range(n_test)]\n",
    "X_test['jaccard_split'] = [jaccard_sim(test_data['question1'].loc[i], test_data['question2'].loc[i]) for i in range(n_test)]\n",
    "X_test['jaccard_lem'] = [jaccard_sim(qtest_lem[0].loc[i], qtest_lem[0].loc[n_test + i]) for i in range(n_test)]"
   ]
  },
  {
   "cell_type": "code",
   "execution_count": 475,
   "metadata": {
    "collapsed": false,
    "deletable": true,
    "editable": true
   },
   "outputs": [
    {
     "data": {
      "image/png": "[encoded data removed]",
      "text/plain": [
       "<matplotlib.figure.Figure at 0x7fb1e356af28>"
      ]
     },
     "metadata": {},
     "output_type": "display_data"
    }
   ],
   "source": [
    "plt.figure(figsize=(18,10))\n",
    "\n",
    "plt.subplot(2,2,1)\n",
    "plt.title(\"Jaccard similarity\")\n",
    "plt.hist(X_train['jaccard'][mask], bins=50, color='r', normed=True, label='Duplicate');\n",
    "plt.hist(X_train['jaccard'][~mask], bins=50, alpha=0.7, normed=True, label='Non-duplicate');\n",
    "\n",
    "plt.subplot(2,2,2)\n",
    "plt.title(\"Jaccard with stopwords\")\n",
    "plt.hist(X_train['jaccard_stop'][mask], bins=50, color='r', normed=True, label='Duplicate');\n",
    "plt.hist(X_train['jaccard_stop'][~mask], bins=50, alpha=0.7, normed=True, label='Non-duplicate');\n",
    "\n",
    "plt.subplot(2,2,3)\n",
    "plt.title(\"Jaccard similarity with simple split\")\n",
    "plt.hist(X_train['jaccard_split'][mask], bins=50, color='r', normed=True, label='Duplicate');\n",
    "plt.hist(X_train['jaccard_split'][~mask], bins=50, alpha=0.7, normed=True, label='Non-duplicate');\n",
    "\n",
    "plt.subplot(2,2,4)\n",
    "plt.title(\"Jaccard with lemmatization\")\n",
    "plt.hist(X_train['jaccard_lem'][mask], bins=50, color='r', normed=True, label='Duplicate');\n",
    "plt.hist(X_train['jaccard_lem'][~mask], bins=50, alpha=0.7, normed=True, label='Non-duplicate');\n",
    "\n",
    "plt.legend()\n",
    "plt.show()"
   ]
  },
  {
   "cell_type": "code",
   "execution_count": null,
   "metadata": {
    "collapsed": true,
    "deletable": true,
    "editable": true
   },
   "outputs": [],
   "source": []
  },
  {
   "cell_type": "markdown",
   "metadata": {
    "deletable": true,
    "editable": true
   },
   "source": [
    "### Overlap\n",
    "$$O(Q_1, Q_2) = \\frac{|Q_1 \\cap Q_2|}{min(|Q_1|, |Q_2|)}$$"
   ]
  },
  {
   "cell_type": "code",
   "execution_count": 476,
   "metadata": {
    "collapsed": true,
    "deletable": true,
    "editable": true
   },
   "outputs": [],
   "source": [
    "def overlap(q1, q2, stop=True):\n",
    "    set_1 = set(q1.split())\n",
    "    set_2 = set(q2.split())\n",
    "    if stop:\n",
    "        set_1 = set_1 - stops\n",
    "        set_2 = set_2 - stops\n",
    "    try:\n",
    "        result = len(set_1.intersection(set_2)) / min(len(set_1), len(set_2))\n",
    "    except ZeroDivisionError:\n",
    "        result = 0\n",
    "    return result"
   ]
  },
  {
   "cell_type": "code",
   "execution_count": 477,
   "metadata": {
    "collapsed": false,
    "deletable": true,
    "editable": true
   },
   "outputs": [
    {
     "name": "stdout",
     "output_type": "stream",
     "text": [
      "CPU times: user 11min 41s, sys: 22.7 ms, total: 11min 41s\n",
      "Wall time: 11min 41s\n"
     ]
    }
   ],
   "source": [
    "%%time\n",
    "\n",
    "X_train['overlap'] = [overlap(qtrain[0].loc[i], qtrain[0].loc[n_train + i]) for i in range(n_train)]\n",
    "X_train['overlap_stop'] = [overlap(qtrain[0].loc[i], qtrain[0].loc[n_train + i], False) for i in range(n_train)]\n",
    "X_train['overlap_split'] = [overlap(train_data['question1'].loc[i], train_data['question2'].loc[i]) for i in range(n_train)]\n",
    "X_train['overlap_lem'] = [overlap(qtrain_lem[0].loc[i], qtrain_lem[0].loc[n_train + i]) for i in range(n_train)]\n",
    "\n",
    "X_test['overlap'] = [overlap(qtest[0].loc[i], qtest[0].loc[n_test + i]) for i in range(n_test)]\n",
    "X_test['overlap_stop'] = [overlap(qtest[0].loc[i], qtest[0].loc[n_test + i], False) for i in range(n_test)]\n",
    "X_test['overlap_split'] = [overlap(test_data['question1'].loc[i], test_data['question2'].loc[i]) for i in range(n_test)]\n",
    "X_test['overlap_lem'] = [overlap(qtest_lem[0].loc[i], qtest_lem[0].loc[n_test + i]) for i in range(n_test)]"
   ]
  },
  {
   "cell_type": "code",
   "execution_count": 478,
   "metadata": {
    "collapsed": false,
    "deletable": true,
    "editable": true
   },
   "outputs": [
    {
     "data": {
      "image/png": "[encoded data removed]",
      "text/plain": [
       "<matplotlib.figure.Figure at 0x7fae7c4fdfd0>"
      ]
     },
     "metadata": {},
     "output_type": "display_data"
    }
   ],
   "source": [
    "plt.figure(figsize=(18,10))\n",
    "\n",
    "plt.subplot(2,2,1)\n",
    "plt.title(\"Overlap\")\n",
    "plt.hist(X_train['overlap'][mask], bins=50, color='r', normed=True, label='Duplicate');\n",
    "plt.hist(X_train['overlap'][~mask], bins=50, alpha=0.7, normed=True, label='Non-duplicate');\n",
    "\n",
    "plt.subplot(2,2,2)\n",
    "plt.title(\"Overlap with stopwords\")\n",
    "plt.hist(X_train['overlap_stop'][mask], bins=50, color='r', normed=True, label='Duplicate');\n",
    "plt.hist(X_train['overlap_stop'][~mask], bins=50, alpha=0.7, normed=True, label='Non-duplicate');\n",
    "\n",
    "plt.subplot(2,2,3)\n",
    "plt.title(\"Overlap with simple split\")\n",
    "plt.hist(X_train['overlap_split'][mask], bins=50, color='r', normed=True, label='Duplicate');\n",
    "plt.hist(X_train['overlap_split'][~mask], bins=50, alpha=0.7, normed=True, label='Non-duplicate');\n",
    "\n",
    "plt.subplot(2,2,4)\n",
    "plt.title(\"Overlap with lemmatization\")\n",
    "plt.hist(X_train['overlap_lem'][mask], bins=50, color='r', normed=True, label='Duplicate');\n",
    "plt.hist(X_train['overlap_lem'][~mask], bins=50, alpha=0.7, normed=True, label='Non-duplicate');\n",
    "\n",
    "plt.legend()\n",
    "plt.show()"
   ]
  },
  {
   "cell_type": "code",
   "execution_count": null,
   "metadata": {
    "collapsed": true,
    "deletable": true,
    "editable": true
   },
   "outputs": [],
   "source": []
  },
  {
   "cell_type": "markdown",
   "metadata": {
    "deletable": true,
    "editable": true
   },
   "source": [
    "## Bag-of-words\n",
    "**Bag-of-unigrams**"
   ]
  },
  {
   "cell_type": "code",
   "execution_count": 251,
   "metadata": {
    "collapsed": false,
    "deletable": true,
    "editable": true
   },
   "outputs": [
    {
     "name": "stdout",
     "output_type": "stream",
     "text": [
      "Vocabulary size: 133241\n",
      "CPU times: user 9min 54s, sys: 264 ms, total: 9min 55s\n",
      "Wall time: 9min 55s\n"
     ]
    }
   ],
   "source": [
    "%%time\n",
    "\n",
    "vect = CountVectorizer(ngram_range=(1,1), min_df=2, tokenizer=nltk.word_tokenize, lowercase=False)\n",
    "vect.fit(all_questions[0])\n",
    "\n",
    "print(\"Vocabulary size: %d\" % len(vect.vocabulary_))"
   ]
  },
  {
   "cell_type": "code",
   "execution_count": 252,
   "metadata": {
    "collapsed": false,
    "deletable": true,
    "editable": true
   },
   "outputs": [
    {
     "name": "stdout",
     "output_type": "stream",
     "text": [
      "['莫斯科郊外的晚上。一个静悄悄的无风之夜。', '菁菁', '萌', '蔣介石', '蚂蚁上树means', '袁世凱', '要', '親しみやすい', '觉得', '譬如朝露，去日苦多', '贰', '费玲瓏', '资本', '资质文件', '走关系？', '身に付ける', '过去', '过来', '这一切', '逆天', '逆転の法則', '這是什麽', '逢十进一', '道德', '道德绑架', '遗世独立', '那108根风格迥异的桂子分别来自世界上数十不闶泉和地区，柤乡日长短不一，有的古朴，相梏，有的纤细，椿致，例如印度的州市子柱，埃及驻等。', '酒店', '野口', '长夜难明赤县天，百年魔怪舞翩跹', '開了', '阿', '隔壁老王', '韩帅', '頑張って', '骂人', '骚客', '高大上', '鴻日', '鹵水', '黄勁智', '鼠', '齐家', '가능해요', '가요', '교환이', '그런데', '근데', '누나', '니콜라스에게', '됐어요', '되다', '되셨으면', '런닝맨', '미안하다', '보고', '사진느낌', '산', '선팔하고', '슬마', '심하잖아', '싸가지', '안', '알아요', '알았어요', '오재호', '이정현', '이주일이', '정', '지', '충만해서', '쾌지나칭칭나네', '하지만', '한글', '황경지', '\\uf02dc', '\\uf03d', '\\uf0b7name', '\\uf0ba', '\\uf0d8', '\\uf0fc', '\\uf105', 'ﬁnd', '\\ufeff', '\\ufeffthe', '（一等洋人二等官，三等少民四等汉）', '（頑張って）used', '（頑張れ）and', '，and', '，but', '，i', '，|', '？', '？and', 'ｦb､sｦbｧﾖｳtｷｻｸﾑ', '￦¥§¤㊙㊗', '￼', '￼what', '￼will', '￼would']\n"
     ]
    }
   ],
   "source": [
    "print(vect.get_feature_names()[-100:])"
   ]
  },
  {
   "cell_type": "markdown",
   "metadata": {
    "deletable": true,
    "editable": true
   },
   "source": [
    "Transforming texts to sparse term-question-matrix "
   ]
  },
  {
   "cell_type": "code",
   "execution_count": 253,
   "metadata": {
    "collapsed": false,
    "deletable": true,
    "editable": true
   },
   "outputs": [
    {
     "name": "stdout",
     "output_type": "stream",
     "text": [
      "CPU times: user 10min 23s, sys: 195 ms, total: 10min 24s\n",
      "Wall time: 10min 29s\n"
     ]
    }
   ],
   "source": [
    "%%time\n",
    "\n",
    "q1_train = vect.transform(qtrain[0][:n_train])\n",
    "q2_train = vect.transform(qtrain[0][n_train:])\n",
    "\n",
    "q1_test = vect.transform(qtest[0][:n_test])\n",
    "q2_test = vect.transform(qtest[0][n_test:])"
   ]
  },
  {
   "cell_type": "code",
   "execution_count": 254,
   "metadata": {
    "collapsed": true,
    "deletable": true,
    "editable": true
   },
   "outputs": [],
   "source": [
    "############ Saving ######################\n",
    "#\n",
    "#pickling_data('q1_train_unigram', q1_train)\n",
    "#pickling_data('q2_train_unigram', q2_train)\n",
    "#pickling_data('q1_test_unigram', q1_test)\n",
    "#pickling_data('q2_test_unigram', q2_test)"
   ]
  },
  {
   "cell_type": "code",
   "execution_count": 611,
   "metadata": {
    "collapsed": true,
    "deletable": true,
    "editable": true
   },
   "outputs": [],
   "source": [
    "############## Loading ###################\n",
    "#\n",
    "q1_train = load_data('q1_train_unigram')\n",
    "q2_train = load_data('q2_train_unigram')\n",
    "q1_test = load_data('q1_test_unigram')\n",
    "q2_test = load_data('q2_test_unigram')"
   ]
  },
  {
   "cell_type": "code",
   "execution_count": null,
   "metadata": {
    "collapsed": true,
    "deletable": true,
    "editable": true
   },
   "outputs": [],
   "source": []
  },
  {
   "cell_type": "markdown",
   "metadata": {
    "deletable": true,
    "editable": true
   },
   "source": [
    "### TF-IDF transformation"
   ]
  },
  {
   "cell_type": "code",
   "execution_count": 83,
   "metadata": {
    "collapsed": false,
    "deletable": true,
    "editable": true
   },
   "outputs": [
    {
     "name": "stdout",
     "output_type": "stream",
     "text": [
      "Vocabulary size: 133241\n",
      "CPU times: user 21min 21s, sys: 810 ms, total: 21min 22s\n",
      "Wall time: 21min 23s\n"
     ]
    }
   ],
   "source": [
    "%%time\n",
    "\n",
    "vect = TfidfVectorizer(ngram_range=(1,1), min_df=2, tokenizer=nltk.word_tokenize, lowercase=False)\n",
    "vect.fit(all_questions[0])\n",
    "\n",
    "print(\"Vocabulary size: %d\" % len(vect.vocabulary_))\n",
    "\n",
    "############# Transforming ###################\n",
    "q1_train = vect.transform(qtrain[0][:n_train])\n",
    "q2_train = vect.transform(qtrain[0][n_train:])\n",
    "q1_test = vect.transform(qtest[0][:n_test])\n",
    "q2_test = vect.transform(qtest[0][n_test:])"
   ]
  },
  {
   "cell_type": "code",
   "execution_count": 84,
   "metadata": {
    "collapsed": true,
    "deletable": true,
    "editable": true
   },
   "outputs": [],
   "source": [
    "################ Saving ####################\n",
    "#\n",
    "#pickling_data('q1_train_tfidf_unigram', q1_train)\n",
    "#pickling_data('q2_train_tfidf_unigram', q2_train)\n",
    "#pickling_data('q1_test_tfidf_unigram', q1_test)\n",
    "#pickling_data('q2_test_tfidf_unigram', q2_test)"
   ]
  },
  {
   "cell_type": "code",
   "execution_count": 612,
   "metadata": {
    "collapsed": true,
    "deletable": true,
    "editable": true
   },
   "outputs": [],
   "source": [
    "############## Loading ###################\n",
    "#\n",
    "q1_train_tf = load_data('q1_train_tfidf_unigram')\n",
    "q2_train_tf = load_data('q2_train_tfidf_unigram')\n",
    "q1_test_tf = load_data('q1_test_tfidf_unigram')\n",
    "q2_test_tf = load_data('q2_test_tfidf_unigram')"
   ]
  },
  {
   "cell_type": "markdown",
   "metadata": {
    "deletable": true,
    "editable": true
   },
   "source": [
    "TF-IDF features"
   ]
  },
  {
   "cell_type": "code",
   "execution_count": 713,
   "metadata": {
    "collapsed": false,
    "deletable": true,
    "editable": true
   },
   "outputs": [
    {
     "name": "stdout",
     "output_type": "stream",
     "text": [
      "CPU times: user 494 ms, sys: 31.7 ms, total: 526 ms\n",
      "Wall time: 481 ms\n"
     ]
    }
   ],
   "source": [
    "%%time\n",
    "\n",
    "X_train['tfidf_sum1'] = q1_train_tf.sum(axis = 1)\n",
    "X_train['tfidf_sum2'] = q2_train_tf.sum(axis = 1)\n",
    "X_train['tfidf_len1'] = q1_train_tf.sign().sum(axis = 1)\n",
    "X_train['tfidf_len2'] = q2_train_tf.sign().sum(axis = 1)\n",
    "X_train['tfidf_mean1'] = X_train['tfidf_sum1'] / X_train['tfidf_len1']\n",
    "X_train['tfidf_mean2'] = X_train['tfidf_sum2'] / X_train['tfidf_len2']\n",
    "\n",
    "X_test['tfidf_sum1'] = q1_test_tf.sum(axis = 1)\n",
    "X_test['tfidf_sum2'] = q2_test_tf.sum(axis = 1)\n",
    "X_test['tfidf_len1'] = q1_test_tf.sign().sum(axis = 1)\n",
    "X_test['tfidf_len2'] = q2_test_tf.sign().sum(axis = 1)\n",
    "X_test['tfidf_mean1'] = X_test['tfidf_sum1'] / X_test['tfidf_len1']\n",
    "X_test['tfidf_mean2'] = X_test['tfidf_sum2'] / X_test['tfidf_len2']"
   ]
  },
  {
   "cell_type": "markdown",
   "metadata": {
    "deletable": true,
    "editable": true
   },
   "source": [
    "### Cosine similarity\n",
    "1. [Is cosine similarity effective?](https://www.quora.com/Is-cosine-similarity-effective)  \n",
    "2. [Wiki page](https://en.wikipedia.org/wiki/Cosine_similarity)"
   ]
  },
  {
   "cell_type": "code",
   "execution_count": 614,
   "metadata": {
    "collapsed": false,
    "deletable": true,
    "editable": true
   },
   "outputs": [],
   "source": [
    "def cos_sim(q1_mtx, q2_mtx, n=n_train):\n",
    "    \n",
    "    labels = np.append(np.arange(0, n, 30000), n)\n",
    "    sim = np.array([])\n",
    "\n",
    "    for i in range(len(labels)-1):\n",
    "        start = labels[i]\n",
    "        end = labels[i+1]\n",
    "        chunk = cosine_similarity(q1_mtx[start:end], q2_mtx[start:end], dense_output=False)\n",
    "        sim = np.append(sim, chunk.diagonal()) \n",
    "    return sim"
   ]
  },
  {
   "cell_type": "code",
   "execution_count": 617,
   "metadata": {
    "collapsed": false,
    "deletable": true,
    "editable": true
   },
   "outputs": [
    {
     "name": "stdout",
     "output_type": "stream",
     "text": [
      "CPU times: user 30min 20s, sys: 1min 59s, total: 32min 20s\n",
      "Wall time: 32min 21s\n"
     ]
    }
   ],
   "source": [
    "%%time\n",
    "\n",
    "X_train['unigram_cos'] = cos_sim(q1_train, q2_train, n=n_train)\n",
    "X_test['unigram_cos'] = cos_sim(q1_test, q2_test, n=n_test)\n",
    "\n",
    "X_train['unigram_tfidf_cos'] = cos_sim(q1_train_tf, q2_train_tf, n=n_train)\n",
    "X_test['unigram_tfidf_cos'] = cos_sim(q1_test_tf, q2_test_tf, n=n_test)"
   ]
  },
  {
   "cell_type": "code",
   "execution_count": null,
   "metadata": {
    "collapsed": true,
    "deletable": true,
    "editable": true
   },
   "outputs": [],
   "source": []
  },
  {
   "cell_type": "code",
   "execution_count": 623,
   "metadata": {
    "collapsed": false,
    "deletable": true,
    "editable": true
   },
   "outputs": [
    {
     "data": {
      "image/png": "[encoded data removed]",
      "text/plain": [
       "<matplotlib.figure.Figure at 0x7faf2e859f60>"
      ]
     },
     "metadata": {},
     "output_type": "display_data"
    }
   ],
   "source": [
    "plt.figure(figsize=(18,5))\n",
    "\n",
    "plt.subplot(1,2,1)\n",
    "plt.title(\"Unigrams\")\n",
    "plt.hist(X_train['unigram_cos'][mask], bins=80, alpha=0.8, color='r', normed=True, label='Duplicate');\n",
    "plt.hist(X_train['unigram_cos'][~mask], bins=80, alpha=0.7, normed=True, label='Non-duplicate');\n",
    "plt.legend()\n",
    "\n",
    "plt.subplot(1,2,2)\n",
    "plt.title(\"Unigrams with TF-IDF\")\n",
    "plt.hist(X_train['unigram_tfidf_cos'][mask], bins=80, alpha=0.8, color='r', normed=True, label='Duplicate');\n",
    "plt.hist(X_train['unigram_tfidf_cos'][~mask], bins=80, alpha=0.7, normed=True, label='Non-duplicate');\n",
    "plt.legend()\n",
    "plt.show()"
   ]
  },
  {
   "cell_type": "markdown",
   "metadata": {
    "deletable": true,
    "editable": true
   },
   "source": [
    "**False Duplicates**"
   ]
  },
  {
   "cell_type": "code",
   "execution_count": 625,
   "metadata": {
    "collapsed": false,
    "deletable": true,
    "editable": true
   },
   "outputs": [
    {
     "name": "stdout",
     "output_type": "stream",
     "text": [
      "(355, 3)\n"
     ]
    },
    {
     "data": {
      "text/html": [
       "<div>\n",
       "<table border=\"1\" class=\"dataframe\">\n",
       "  <thead>\n",
       "    <tr style=\"text-align: right;\">\n",
       "      <th></th>\n",
       "      <th>question1</th>\n",
       "      <th>question2</th>\n",
       "      <th>is_duplicate</th>\n",
       "    </tr>\n",
       "  </thead>\n",
       "  <tbody>\n",
       "    <tr>\n",
       "      <th>240</th>\n",
       "      <td>What is the temperament of a Bullmastiff/Husky...</td>\n",
       "      <td>What is the temperament of a Corgi-Husky mix?</td>\n",
       "      <td>0</td>\n",
       "    </tr>\n",
       "    <tr>\n",
       "      <th>2850</th>\n",
       "      <td>What does tw4t mean?</td>\n",
       "      <td>What does 분위기 mean?</td>\n",
       "      <td>0</td>\n",
       "    </tr>\n",
       "    <tr>\n",
       "      <th>3148</th>\n",
       "      <td>How do I overcome my inferiority complex ?</td>\n",
       "      <td>How do I overcome my inferiority complex?</td>\n",
       "      <td>0</td>\n",
       "    </tr>\n",
       "    <tr>\n",
       "      <th>5182</th>\n",
       "      <td>Is God capable of disproving the existence of ...</td>\n",
       "      <td>Is science capable of disproving the existence...</td>\n",
       "      <td>0</td>\n",
       "    </tr>\n",
       "    <tr>\n",
       "      <th>5920</th>\n",
       "      <td>What are some countable words that are likely ...</td>\n",
       "      <td>What are some uncountable words that are likel...</td>\n",
       "      <td>0</td>\n",
       "    </tr>\n",
       "    <tr>\n",
       "      <th>6238</th>\n",
       "      <td>Are cats afraid of tigers?</td>\n",
       "      <td>Are tigers afraid of cats?</td>\n",
       "      <td>0</td>\n",
       "    </tr>\n",
       "    <tr>\n",
       "      <th>6279</th>\n",
       "      <td>Why is Google Chrome not working but Internet ...</td>\n",
       "      <td>Why is Internet Explorer not working but Googl...</td>\n",
       "      <td>0</td>\n",
       "    </tr>\n",
       "    <tr>\n",
       "      <th>6591</th>\n",
       "      <td>How has Disney's culture changed since the Pix...</td>\n",
       "      <td>How has Pixar's culture changed since the Disn...</td>\n",
       "      <td>0</td>\n",
       "    </tr>\n",
       "    <tr>\n",
       "      <th>6840</th>\n",
       "      <td>What are some things you can do in the USA but...</td>\n",
       "      <td>What are some things you can do in France but ...</td>\n",
       "      <td>0</td>\n",
       "    </tr>\n",
       "    <tr>\n",
       "      <th>8262</th>\n",
       "      <td>What happened to Tmartn?</td>\n",
       "      <td>What happened to Papercuts777?</td>\n",
       "      <td>0</td>\n",
       "    </tr>\n",
       "  </tbody>\n",
       "</table>\n",
       "</div>"
      ],
      "text/plain": [
       "                                              question1  \\\n",
       "240   What is the temperament of a Bullmastiff/Husky...   \n",
       "2850                               What does tw4t mean?   \n",
       "3148         How do I overcome my inferiority complex ?   \n",
       "5182  Is God capable of disproving the existence of ...   \n",
       "5920  What are some countable words that are likely ...   \n",
       "6238                         Are cats afraid of tigers?   \n",
       "6279  Why is Google Chrome not working but Internet ...   \n",
       "6591  How has Disney's culture changed since the Pix...   \n",
       "6840  What are some things you can do in the USA but...   \n",
       "8262                           What happened to Tmartn?   \n",
       "\n",
       "                                              question2  is_duplicate  \n",
       "240       What is the temperament of a Corgi-Husky mix?             0  \n",
       "2850                                What does 분위기 mean?             0  \n",
       "3148          How do I overcome my inferiority complex?             0  \n",
       "5182  Is science capable of disproving the existence...             0  \n",
       "5920  What are some uncountable words that are likel...             0  \n",
       "6238                         Are tigers afraid of cats?             0  \n",
       "6279  Why is Internet Explorer not working but Googl...             0  \n",
       "6591  How has Pixar's culture changed since the Disn...             0  \n",
       "6840  What are some things you can do in France but ...             0  \n",
       "8262                     What happened to Papercuts777?             0  "
      ]
     },
     "execution_count": 625,
     "metadata": {},
     "output_type": "execute_result"
    }
   ],
   "source": [
    "false_pos = train_data[(X_train['unigram_cos'] > 0.99) & ~mask][['question1', 'question2', 'is_duplicate']]\n",
    "print(false_pos.shape)\n",
    "false_pos.head(10)"
   ]
  },
  {
   "cell_type": "code",
   "execution_count": 626,
   "metadata": {
    "collapsed": false,
    "deletable": true,
    "editable": true
   },
   "outputs": [
    {
     "data": {
      "text/html": [
       "<div>\n",
       "<table border=\"1\" class=\"dataframe\">\n",
       "  <thead>\n",
       "    <tr style=\"text-align: right;\">\n",
       "      <th></th>\n",
       "      <th>question1</th>\n",
       "      <th>question2</th>\n",
       "      <th>is_duplicate</th>\n",
       "    </tr>\n",
       "  </thead>\n",
       "  <tbody>\n",
       "    <tr>\n",
       "      <th>2850</th>\n",
       "      <td>What does tw4t mean?</td>\n",
       "      <td>What does 분위기 mean?</td>\n",
       "      <td>0</td>\n",
       "    </tr>\n",
       "    <tr>\n",
       "      <th>3148</th>\n",
       "      <td>How do I overcome my inferiority complex ?</td>\n",
       "      <td>How do I overcome my inferiority complex?</td>\n",
       "      <td>0</td>\n",
       "    </tr>\n",
       "    <tr>\n",
       "      <th>5920</th>\n",
       "      <td>What are some countable words that are likely ...</td>\n",
       "      <td>What are some uncountable words that are likel...</td>\n",
       "      <td>0</td>\n",
       "    </tr>\n",
       "    <tr>\n",
       "      <th>6591</th>\n",
       "      <td>How has Disney's culture changed since the Pix...</td>\n",
       "      <td>How has Pixar's culture changed since the Disn...</td>\n",
       "      <td>0</td>\n",
       "    </tr>\n",
       "    <tr>\n",
       "      <th>6840</th>\n",
       "      <td>What are some things you can do in the USA but...</td>\n",
       "      <td>What are some things you can do in France but ...</td>\n",
       "      <td>0</td>\n",
       "    </tr>\n",
       "    <tr>\n",
       "      <th>8262</th>\n",
       "      <td>What happened to Tmartn?</td>\n",
       "      <td>What happened to Papercuts777?</td>\n",
       "      <td>0</td>\n",
       "    </tr>\n",
       "    <tr>\n",
       "      <th>8285</th>\n",
       "      <td>What is the most common mental illness?</td>\n",
       "      <td>What is the most common self-diagnosed mental ...</td>\n",
       "      <td>0</td>\n",
       "    </tr>\n",
       "    <tr>\n",
       "      <th>9303</th>\n",
       "      <td>What is cancer?</td>\n",
       "      <td>What is mesothelia cancer?</td>\n",
       "      <td>0</td>\n",
       "    </tr>\n",
       "    <tr>\n",
       "      <th>12606</th>\n",
       "      <td>What is coal?</td>\n",
       "      <td>What is lignite coal?</td>\n",
       "      <td>0</td>\n",
       "    </tr>\n",
       "    <tr>\n",
       "      <th>17475</th>\n",
       "      <td>What is OpenDomainMarket.com worth?</td>\n",
       "      <td>What is DroneAppz.com worth?</td>\n",
       "      <td>0</td>\n",
       "    </tr>\n",
       "  </tbody>\n",
       "</table>\n",
       "</div>"
      ],
      "text/plain": [
       "                                               question1  \\\n",
       "2850                                What does tw4t mean?   \n",
       "3148          How do I overcome my inferiority complex ?   \n",
       "5920   What are some countable words that are likely ...   \n",
       "6591   How has Disney's culture changed since the Pix...   \n",
       "6840   What are some things you can do in the USA but...   \n",
       "8262                            What happened to Tmartn?   \n",
       "8285             What is the most common mental illness?   \n",
       "9303                                     What is cancer?   \n",
       "12606                                      What is coal?   \n",
       "17475                What is OpenDomainMarket.com worth?   \n",
       "\n",
       "                                               question2  is_duplicate  \n",
       "2850                                 What does 분위기 mean?             0  \n",
       "3148           How do I overcome my inferiority complex?             0  \n",
       "5920   What are some uncountable words that are likel...             0  \n",
       "6591   How has Pixar's culture changed since the Disn...             0  \n",
       "6840   What are some things you can do in France but ...             0  \n",
       "8262                      What happened to Papercuts777?             0  \n",
       "8285   What is the most common self-diagnosed mental ...             0  \n",
       "9303                          What is mesothelia cancer?             0  \n",
       "12606                              What is lignite coal?             0  \n",
       "17475                       What is DroneAppz.com worth?             0  "
      ]
     },
     "execution_count": 626,
     "metadata": {},
     "output_type": "execute_result"
    }
   ],
   "source": [
    "train_data[(X_train['unigram_tfidf_cos'] == 1) & ~mask][['question1', 'question2', 'is_duplicate']].head(10)"
   ]
  },
  {
   "cell_type": "code",
   "execution_count": null,
   "metadata": {
    "collapsed": true,
    "deletable": true,
    "editable": true
   },
   "outputs": [],
   "source": []
  },
  {
   "cell_type": "markdown",
   "metadata": {
    "deletable": true,
    "editable": true
   },
   "source": [
    "## Bag-of-chars"
   ]
  },
  {
   "cell_type": "code",
   "execution_count": 150,
   "metadata": {
    "collapsed": false,
    "deletable": true,
    "editable": true
   },
   "outputs": [
    {
     "name": "stdout",
     "output_type": "stream",
     "text": [
      "Vocabulary size: 161557\n",
      "CPU times: user 15min, sys: 2.5 s, total: 15min 2s\n",
      "Wall time: 15min 2s\n"
     ]
    }
   ],
   "source": [
    "%%time\n",
    "\n",
    "vect = TfidfVectorizer(ngram_range=(1,4), lowercase=False, min_df=2, max_df=0.1, analyzer='char')\n",
    "vect.fit(qtrain[0])\n",
    "\n",
    "print(\"Vocabulary size: %d\" % len(vect.vocabulary_))\n",
    "\n",
    "############# Transforming ###################\n",
    "q1_train = vect.transform(qtrain[0][:n_train])\n",
    "q2_train = vect.transform(qtrain[0][n_train:])\n",
    "q1_test = vect.transform(qtest[0][:n_test])\n",
    "q2_test = vect.transform(qtest[0][n_test:])"
   ]
  },
  {
   "cell_type": "code",
   "execution_count": 151,
   "metadata": {
    "collapsed": true,
    "deletable": true,
    "editable": true
   },
   "outputs": [],
   "source": [
    "################ Saving ####################\n",
    "#\n",
    "#pickling_data('q1_train_char', q1_train)\n",
    "#pickling_data('q2_train_char', q2_train)\n",
    "#pickling_data('q1_test_char', q1_test)\n",
    "#pickling_data('q2_test_char', q2_test)"
   ]
  },
  {
   "cell_type": "code",
   "execution_count": 671,
   "metadata": {
    "collapsed": true,
    "deletable": true,
    "editable": true
   },
   "outputs": [],
   "source": [
    "############## Loading ###################\n",
    "#\n",
    "q1_train_char = load_data('q1_train_char')\n",
    "q2_train_char = load_data('q2_train_char')\n",
    "q1_test_char = load_data('q1_test_char')\n",
    "q2_test_char = load_data('q2_test_char')"
   ]
  },
  {
   "cell_type": "code",
   "execution_count": 673,
   "metadata": {
    "collapsed": false,
    "deletable": true,
    "editable": true
   },
   "outputs": [
    {
     "name": "stdout",
     "output_type": "stream",
     "text": [
      "CPU times: user 25min 34s, sys: 25.4 s, total: 25min 59s\n",
      "Wall time: 26min\n"
     ]
    }
   ],
   "source": [
    "%%time\n",
    "\n",
    "X_train['char_tfidf_cos'] = cos_sim(q1_train_char, q2_train_char, n=n_train)\n",
    "X_test['char_tfidf_cos'] = cos_sim(q1_test_char, q2_test_char, n=n_test)"
   ]
  },
  {
   "cell_type": "code",
   "execution_count": 683,
   "metadata": {
    "collapsed": false,
    "deletable": true,
    "editable": true
   },
   "outputs": [
    {
     "data": {
      "image/png": "[encoded data removed]",
      "text/plain": [
       "<matplotlib.figure.Figure at 0x7faf32770470>"
      ]
     },
     "metadata": {},
     "output_type": "display_data"
    }
   ],
   "source": [
    "plt.figure(figsize=(18,5))\n",
    "\n",
    "plt.subplot(1,2,1)\n",
    "plt.title(\"4-chars with TFIDF\")\n",
    "plt.hist(X_train['char_tfidf_cos'][mask], bins=250, alpha=0.8, color='r', normed=True, label='Duplicate');\n",
    "plt.hist(X_train['char_tfidf_cos'][~mask], bins=250, alpha=0.7, normed=True, label='Non-duplicate');\n",
    "plt.legend()\n",
    "\n",
    "plt.subplot(1,2,2)\n",
    "plt.title(\"4-chars\")\n",
    "plt.hist(X_train['char_tfidf_cos'], bins=80, color='g', alpha=0.7, normed=True, label='Train');\n",
    "plt.hist(X_test['char_tfidf_cos'], bins=80, color='grey', alpha=0.9, normed=True, label='Test');\n",
    "plt.legend()\n",
    "plt.show()"
   ]
  },
  {
   "cell_type": "markdown",
   "metadata": {
    "deletable": true,
    "editable": true
   },
   "source": [
    "**False Duplicates**"
   ]
  },
  {
   "cell_type": "code",
   "execution_count": 684,
   "metadata": {
    "collapsed": false,
    "deletable": true,
    "editable": true
   },
   "outputs": [
    {
     "data": {
      "text/html": [
       "<div>\n",
       "<table border=\"1\" class=\"dataframe\">\n",
       "  <thead>\n",
       "    <tr style=\"text-align: right;\">\n",
       "      <th></th>\n",
       "      <th>question1</th>\n",
       "      <th>question2</th>\n",
       "      <th>is_duplicate</th>\n",
       "    </tr>\n",
       "  </thead>\n",
       "  <tbody>\n",
       "    <tr>\n",
       "      <th>3148</th>\n",
       "      <td>How do I overcome my inferiority complex ?</td>\n",
       "      <td>How do I overcome my inferiority complex?</td>\n",
       "      <td>0</td>\n",
       "    </tr>\n",
       "    <tr>\n",
       "      <th>13597</th>\n",
       "      <td>How do spiders sleep?</td>\n",
       "      <td>Do spiders sleep?</td>\n",
       "      <td>0</td>\n",
       "    </tr>\n",
       "    <tr>\n",
       "      <th>23507</th>\n",
       "      <td>What is the purpose of life ?</td>\n",
       "      <td>What is the purpose of life?</td>\n",
       "      <td>0</td>\n",
       "    </tr>\n",
       "    <tr>\n",
       "      <th>35641</th>\n",
       "      <td>What to do ?</td>\n",
       "      <td>What to do?</td>\n",
       "      <td>0</td>\n",
       "    </tr>\n",
       "    <tr>\n",
       "      <th>66762</th>\n",
       "      <td>What should I do after completing BCA ?</td>\n",
       "      <td>What should I do after completing BCA?</td>\n",
       "      <td>0</td>\n",
       "    </tr>\n",
       "    <tr>\n",
       "      <th>107779</th>\n",
       "      <td>Do Indian women respect Indian men?</td>\n",
       "      <td>Do Indian men respect Indian women?</td>\n",
       "      <td>0</td>\n",
       "    </tr>\n",
       "    <tr>\n",
       "      <th>146239</th>\n",
       "      <td>Why do the Irish hate the English?</td>\n",
       "      <td>Why do the english hate the irish?</td>\n",
       "      <td>0</td>\n",
       "    </tr>\n",
       "    <tr>\n",
       "      <th>154185</th>\n",
       "      <td>What are the type of questions which belong to...</td>\n",
       "      <td>What are the type of questions which belong to...</td>\n",
       "      <td>0</td>\n",
       "    </tr>\n",
       "    <tr>\n",
       "      <th>164973</th>\n",
       "      <td>How should I prepare ?</td>\n",
       "      <td>How should I prepare?</td>\n",
       "      <td>0</td>\n",
       "    </tr>\n",
       "    <tr>\n",
       "      <th>199536</th>\n",
       "      <td>Why should I believe in god ?</td>\n",
       "      <td>Why should I believe in God?</td>\n",
       "      <td>0</td>\n",
       "    </tr>\n",
       "  </tbody>\n",
       "</table>\n",
       "</div>"
      ],
      "text/plain": [
       "                                                question1  \\\n",
       "3148           How do I overcome my inferiority complex ?   \n",
       "13597                               How do spiders sleep?   \n",
       "23507                       What is the purpose of life ?   \n",
       "35641                                        What to do ?   \n",
       "66762             What should I do after completing BCA ?   \n",
       "107779                Do Indian women respect Indian men?   \n",
       "146239                 Why do the Irish hate the English?   \n",
       "154185  What are the type of questions which belong to...   \n",
       "164973                             How should I prepare ?   \n",
       "199536                      Why should I believe in god ?   \n",
       "\n",
       "                                                question2  is_duplicate  \n",
       "3148            How do I overcome my inferiority complex?             0  \n",
       "13597                                   Do spiders sleep?             0  \n",
       "23507                        What is the purpose of life?             0  \n",
       "35641                                         What to do?             0  \n",
       "66762              What should I do after completing BCA?             0  \n",
       "107779                Do Indian men respect Indian women?             0  \n",
       "146239                 Why do the english hate the irish?             0  \n",
       "154185  What are the type of questions which belong to...             0  \n",
       "164973                              How should I prepare?             0  \n",
       "199536                       Why should I believe in God?             0  "
      ]
     },
     "execution_count": 684,
     "metadata": {},
     "output_type": "execute_result"
    }
   ],
   "source": [
    "train_data[(X_train['char_tfidf_cos'] == 1) & ~mask][['question1', 'question2', 'is_duplicate']].head(10)"
   ]
  },
  {
   "cell_type": "code",
   "execution_count": null,
   "metadata": {
    "collapsed": true
   },
   "outputs": [],
   "source": []
  },
  {
   "cell_type": "markdown",
   "metadata": {
    "deletable": true,
    "editable": true
   },
   "source": [
    "### Identical questions!"
   ]
  },
  {
   "cell_type": "markdown",
   "metadata": {},
   "source": [
    "Train"
   ]
  },
  {
   "cell_type": "code",
   "execution_count": 882,
   "metadata": {
    "collapsed": false,
    "deletable": true,
    "editable": true
   },
   "outputs": [
    {
     "data": {
      "text/html": [
       "<div>\n",
       "<table border=\"1\" class=\"dataframe\">\n",
       "  <thead>\n",
       "    <tr style=\"text-align: right;\">\n",
       "      <th></th>\n",
       "      <th>question1</th>\n",
       "      <th>question2</th>\n",
       "    </tr>\n",
       "  </thead>\n",
       "  <tbody>\n",
       "    <tr>\n",
       "      <th>4489</th>\n",
       "      <td>What are the safety precautions on handling sh...</td>\n",
       "      <td>What are the safety precautions on handling sh...</td>\n",
       "    </tr>\n",
       "    <tr>\n",
       "      <th>29530</th>\n",
       "      <td>Which American restaurant chains can be found ...</td>\n",
       "      <td>Which American restaurant chains can be found ...</td>\n",
       "    </tr>\n",
       "    <tr>\n",
       "      <th>31627</th>\n",
       "      <td>How do I get into Stanford with a poor GPA? E</td>\n",
       "      <td>How do I get into Stanford with a poor GPA?</td>\n",
       "    </tr>\n",
       "    <tr>\n",
       "      <th>67511</th>\n",
       "      <td>Why did Apple change its name from Apple Compu...</td>\n",
       "      <td>Why did Apple change its name from Apple Compu...</td>\n",
       "    </tr>\n",
       "    <tr>\n",
       "      <th>70303</th>\n",
       "      <td>How much computer science does an 8 year old U...</td>\n",
       "      <td>How much computer science does an 8 year old U...</td>\n",
       "    </tr>\n",
       "    <tr>\n",
       "      <th>145928</th>\n",
       "      <td>How have you helped to create positive change ...</td>\n",
       "      <td>How have you helped to create positive change ...</td>\n",
       "    </tr>\n",
       "    <tr>\n",
       "      <th>151228</th>\n",
       "      <td>What are human beings instinctively afraid of?'?</td>\n",
       "      <td>What are human beings instinctively afraid of?</td>\n",
       "    </tr>\n",
       "    <tr>\n",
       "      <th>158615</th>\n",
       "      <td>What new paradigms do you think may be signifi...</td>\n",
       "      <td>What new paradigms do you think may be signifi...</td>\n",
       "    </tr>\n",
       "    <tr>\n",
       "      <th>190707</th>\n",
       "      <td>What is limit for chemical oxygen demand for d...</td>\n",
       "      <td>What is limit for chemical oxygen demand for d...</td>\n",
       "    </tr>\n",
       "    <tr>\n",
       "      <th>211885</th>\n",
       "      <td>Are there statistics available for birth-date ...</td>\n",
       "      <td>Are there statistics available for birth-date ...</td>\n",
       "    </tr>\n",
       "    <tr>\n",
       "      <th>259192</th>\n",
       "      <td>How do they measure mean sea level?</td>\n",
       "      <td>How do they measure mean sea level?</td>\n",
       "    </tr>\n",
       "    <tr>\n",
       "      <th>328745</th>\n",
       "      <td>lol ?</td>\n",
       "      <td>lol</td>\n",
       "    </tr>\n",
       "    <tr>\n",
       "      <th>332106</th>\n",
       "      <td>How do I get into Stanford with a poor GPA? C</td>\n",
       "      <td>How do I get into Stanford with a poor GPA?</td>\n",
       "    </tr>\n",
       "    <tr>\n",
       "      <th>371788</th>\n",
       "      <td>What is the output of this program? ?</td>\n",
       "      <td>What is the output of this program?</td>\n",
       "    </tr>\n",
       "    <tr>\n",
       "      <th>378334</th>\n",
       "      <td>Under what Presidents did we have a great econ...</td>\n",
       "      <td>Under what Presidents did we have a great econ...</td>\n",
       "    </tr>\n",
       "  </tbody>\n",
       "</table>\n",
       "</div>"
      ],
      "text/plain": [
       "                                                question1  \\\n",
       "4489    What are the safety precautions on handling sh...   \n",
       "29530   Which American restaurant chains can be found ...   \n",
       "31627       How do I get into Stanford with a poor GPA? E   \n",
       "67511   Why did Apple change its name from Apple Compu...   \n",
       "70303   How much computer science does an 8 year old U...   \n",
       "145928  How have you helped to create positive change ...   \n",
       "151228   What are human beings instinctively afraid of?'?   \n",
       "158615  What new paradigms do you think may be signifi...   \n",
       "190707  What is limit for chemical oxygen demand for d...   \n",
       "211885  Are there statistics available for birth-date ...   \n",
       "259192              How do they measure mean sea level?     \n",
       "328745                                              lol ?   \n",
       "332106      How do I get into Stanford with a poor GPA? C   \n",
       "371788              What is the output of this program? ?   \n",
       "378334  Under what Presidents did we have a great econ...   \n",
       "\n",
       "                                                question2  \n",
       "4489    What are the safety precautions on handling sh...  \n",
       "29530   Which American restaurant chains can be found ...  \n",
       "31627         How do I get into Stanford with a poor GPA?  \n",
       "67511   Why did Apple change its name from Apple Compu...  \n",
       "70303   How much computer science does an 8 year old U...  \n",
       "145928  How have you helped to create positive change ...  \n",
       "151228     What are human beings instinctively afraid of?  \n",
       "158615  What new paradigms do you think may be signifi...  \n",
       "190707  What is limit for chemical oxygen demand for d...  \n",
       "211885  Are there statistics available for birth-date ...  \n",
       "259192                How do they measure mean sea level?  \n",
       "328745                                                lol  \n",
       "332106        How do I get into Stanford with a poor GPA?  \n",
       "371788                What is the output of this program?  \n",
       "378334  Under what Presidents did we have a great econ...  "
      ]
     },
     "execution_count": 882,
     "metadata": {},
     "output_type": "execute_result"
    }
   ],
   "source": [
    "train_data[train_data['question1'].apply(lambda x: x[:-2]) == train_data['question2']][['question1','question2']]"
   ]
  },
  {
   "cell_type": "code",
   "execution_count": 883,
   "metadata": {
    "collapsed": false,
    "deletable": true,
    "editable": true
   },
   "outputs": [
    {
     "data": {
      "text/html": [
       "<div>\n",
       "<table border=\"1\" class=\"dataframe\">\n",
       "  <thead>\n",
       "    <tr style=\"text-align: right;\">\n",
       "      <th></th>\n",
       "      <th>question1</th>\n",
       "      <th>question2</th>\n",
       "    </tr>\n",
       "  </thead>\n",
       "  <tbody>\n",
       "    <tr>\n",
       "      <th>70341</th>\n",
       "      <td>If ads were removed from YouTube, how would yo...</td>\n",
       "      <td>If ads were removed from YouTube, how would yo...</td>\n",
       "    </tr>\n",
       "    <tr>\n",
       "      <th>72656</th>\n",
       "      <td>What are the skills required for big data jobs?</td>\n",
       "      <td>What are the skills required for big data jobs?</td>\n",
       "    </tr>\n",
       "    <tr>\n",
       "      <th>332363</th>\n",
       "      <td>What are the differences between small-cap, mi...</td>\n",
       "      <td>What are the differences between small-cap, mi...</td>\n",
       "    </tr>\n",
       "    <tr>\n",
       "      <th>333542</th>\n",
       "      <td>What are you most passionate about and engaged...</td>\n",
       "      <td>What are you most passionate about and engaged...</td>\n",
       "    </tr>\n",
       "    <tr>\n",
       "      <th>360473</th>\n",
       "      <td>What did you enjoy most in your undergraduate ...</td>\n",
       "      <td>What did you enjoy most in your undergraduate ...</td>\n",
       "    </tr>\n",
       "    <tr>\n",
       "      <th>366359</th>\n",
       "      <td>How will you teach your grandmother to post ph...</td>\n",
       "      <td>How will you teach your grandmother to post ph...</td>\n",
       "    </tr>\n",
       "  </tbody>\n",
       "</table>\n",
       "</div>"
      ],
      "text/plain": [
       "                                                question1  \\\n",
       "70341   If ads were removed from YouTube, how would yo...   \n",
       "72656     What are the skills required for big data jobs?   \n",
       "332363  What are the differences between small-cap, mi...   \n",
       "333542  What are you most passionate about and engaged...   \n",
       "360473  What did you enjoy most in your undergraduate ...   \n",
       "366359  How will you teach your grandmother to post ph...   \n",
       "\n",
       "                                                question2  \n",
       "70341   If ads were removed from YouTube, how would yo...  \n",
       "72656   What are the skills required for big data jobs?    \n",
       "332363  What are the differences between small-cap, mi...  \n",
       "333542  What are you most passionate about and engaged...  \n",
       "360473  What did you enjoy most in your undergraduate ...  \n",
       "366359  How will you teach your grandmother to post ph...  "
      ]
     },
     "execution_count": 883,
     "metadata": {},
     "output_type": "execute_result"
    }
   ],
   "source": [
    "train_data[train_data['question2'].apply(lambda x: x[:-2]) == train_data['question1']][['question1','question2']]"
   ]
  },
  {
   "cell_type": "markdown",
   "metadata": {},
   "source": [
    "Test"
   ]
  },
  {
   "cell_type": "code",
   "execution_count": 168,
   "metadata": {
    "collapsed": false,
    "deletable": true,
    "editable": true
   },
   "outputs": [
    {
     "data": {
      "text/html": [
       "<div>\n",
       "<table border=\"1\" class=\"dataframe\">\n",
       "  <thead>\n",
       "    <tr style=\"text-align: right;\">\n",
       "      <th></th>\n",
       "      <th>test_id</th>\n",
       "      <th>question1</th>\n",
       "      <th>question2</th>\n",
       "    </tr>\n",
       "  </thead>\n",
       "  <tbody>\n",
       "    <tr>\n",
       "      <th>10620</th>\n",
       "      <td>10620</td>\n",
       "      <td>What is the police code?</td>\n",
       "      <td>What is the police code?</td>\n",
       "    </tr>\n",
       "    <tr>\n",
       "      <th>37823</th>\n",
       "      <td>37823</td>\n",
       "      <td>How love?</td>\n",
       "      <td>How love?</td>\n",
       "    </tr>\n",
       "    <tr>\n",
       "      <th>43119</th>\n",
       "      <td>43119</td>\n",
       "      <td>What is?</td>\n",
       "      <td>What is?</td>\n",
       "    </tr>\n",
       "    <tr>\n",
       "      <th>106366</th>\n",
       "      <td>106366</td>\n",
       "      <td>What is the</td>\n",
       "      <td>What is the</td>\n",
       "    </tr>\n",
       "    <tr>\n",
       "      <th>129019</th>\n",
       "      <td>129019</td>\n",
       "      <td>Is good or bad?</td>\n",
       "      <td>Is good or bad?</td>\n",
       "    </tr>\n",
       "    <tr>\n",
       "      <th>239355</th>\n",
       "      <td>239355</td>\n",
       "      <td>I universe?</td>\n",
       "      <td>I universe?</td>\n",
       "    </tr>\n",
       "    <tr>\n",
       "      <th>276281</th>\n",
       "      <td>276281</td>\n",
       "      <td>What is?</td>\n",
       "      <td>What is?</td>\n",
       "    </tr>\n",
       "    <tr>\n",
       "      <th>321797</th>\n",
       "      <td>321797</td>\n",
       "      <td>What training?</td>\n",
       "      <td>What training?</td>\n",
       "    </tr>\n",
       "    <tr>\n",
       "      <th>330765</th>\n",
       "      <td>330765</td>\n",
       "      <td>What confidence?</td>\n",
       "      <td>What confidence?</td>\n",
       "    </tr>\n",
       "    <tr>\n",
       "      <th>391916</th>\n",
       "      <td>391916</td>\n",
       "      <td>What is the reproduction cycle of?</td>\n",
       "      <td>What is the reproduction cycle of?</td>\n",
       "    </tr>\n",
       "  </tbody>\n",
       "</table>\n",
       "</div>"
      ],
      "text/plain": [
       "        test_id                           question1  \\\n",
       "10620     10620            What is the police code?   \n",
       "37823     37823                           How love?   \n",
       "43119     43119                            What is?   \n",
       "106366   106366                        What is the    \n",
       "129019   129019                     Is good or bad?   \n",
       "239355   239355                         I universe?   \n",
       "276281   276281                            What is?   \n",
       "321797   321797                      What training?   \n",
       "330765   330765                    What confidence?   \n",
       "391916   391916  What is the reproduction cycle of?   \n",
       "\n",
       "                                 question2  \n",
       "10620             What is the police code?  \n",
       "37823                            How love?  \n",
       "43119                             What is?  \n",
       "106366                        What is the   \n",
       "129019                     Is good or bad?  \n",
       "239355                         I universe?  \n",
       "276281                            What is?  \n",
       "321797                      What training?  \n",
       "330765                    What confidence?  \n",
       "391916  What is the reproduction cycle of?  "
      ]
     },
     "execution_count": 168,
     "metadata": {},
     "output_type": "execute_result"
    }
   ],
   "source": [
    "test_data[test_data['question2'] == test_data['question1']].head(10)"
   ]
  },
  {
   "cell_type": "markdown",
   "metadata": {
    "deletable": true,
    "editable": true
   },
   "source": [
    "### Saving features"
   ]
  },
  {
   "cell_type": "code",
   "execution_count": 791,
   "metadata": {
    "collapsed": true,
    "deletable": true,
    "editable": true
   },
   "outputs": [],
   "source": [
    "X_train.to_csv('train_f1.csv', index=False)\n",
    "X_test.to_csv('test_f1.csv', index=False)"
   ]
  },
  {
   "cell_type": "code",
   "execution_count": null,
   "metadata": {
    "collapsed": true,
    "deletable": true,
    "editable": true
   },
   "outputs": [],
   "source": [
    "######### Loading ############\n",
    "#\n",
    "X_train = pd.read_csv('train_f1.csv')\n",
    "X_test = pd.read_csv('test_f1.csv')"
   ]
  },
  {
   "cell_type": "markdown",
   "metadata": {},
   "source": [
    "### Oversampling"
   ]
  },
  {
   "cell_type": "code",
   "execution_count": 806,
   "metadata": {
    "collapsed": false,
    "deletable": true,
    "editable": true
   },
   "outputs": [
    {
     "name": "stdout",
     "output_type": "stream",
     "text": [
      "0.19124366100096607\n"
     ]
    }
   ],
   "source": [
    "x_train = X_train\n",
    "y_train = pd.DataFrame(Y_train)\n",
    "\n",
    "pos_train = x_train[y_train['is_duplicate'] == 1]\n",
    "neg_train = x_train[y_train['is_duplicate'] == 0]\n",
    "\n",
    "p = 0.165\n",
    "scale = ((len(pos_train) / (len(pos_train) + len(neg_train))) / p) - 1\n",
    "while scale > 1:\n",
    "    neg_train = pd.concat([neg_train, neg_train])\n",
    "    scale -=1\n",
    "neg_train = pd.concat([neg_train, neg_train[:int(scale * len(neg_train))]])\n",
    "print(len(pos_train) / (len(pos_train) + len(neg_train)))\n",
    "\n",
    "x_train = pd.concat([pos_train, neg_train])\n",
    "y_train = (np.zeros(len(pos_train)) + 1).tolist() + np.zeros(len(neg_train)).tolist()\n",
    "del pos_train, neg_train"
   ]
  },
  {
   "cell_type": "code",
   "execution_count": 807,
   "metadata": {
    "collapsed": false,
    "deletable": true,
    "editable": true
   },
   "outputs": [
    {
     "data": {
      "text/plain": [
       "Index(['word_count_q1', 'word_count_q2', 'diff_word_count', 'nonstop_count_q1',\n",
       "       'nonstop_count_q2', 'diff_nonstopword_count', 'char_count_q1',\n",
       "       'char_count_q2', 'spec_char_q1', 'spec_char_q2', 'match_ratio',\n",
       "       'jaccard', 'jaccard_stop', 'jaccard_split', 'jaccard_lem', 'overlap',\n",
       "       'overlap_stop', 'overlap_split', 'overlap_lem', 'symmetric_diff',\n",
       "       'fuzz_qratio', 'fuzz_WRatio', 'fuzz_partial_ratio',\n",
       "       'fuzz_partial_token_set_ratio', 'fuzz_partial_token_sort_ratio',\n",
       "       'fuzz_token_set_ratio', 'fuzz_token_sort_ratio', 'unigram_cos',\n",
       "       'unigram_tfidf_cos', 'tfidf_mean1', 'tfidf_mean2', 'char_tfidf_cos',\n",
       "       'tfidf_sum1', 'tfidf_sum2', 'tfidf_len1', 'tfidf_len2'],\n",
       "      dtype='object')"
      ]
     },
     "execution_count": 807,
     "metadata": {},
     "output_type": "execute_result"
    }
   ],
   "source": [
    "x_train.columns"
   ]
  },
  {
   "cell_type": "markdown",
   "metadata": {
    "collapsed": true,
    "deletable": true,
    "editable": true
   },
   "source": [
    "## Training"
   ]
  },
  {
   "cell_type": "code",
   "execution_count": 808,
   "metadata": {
    "collapsed": false,
    "deletable": true,
    "editable": true
   },
   "outputs": [
    {
     "name": "stdout",
     "output_type": "stream",
     "text": [
      "[0]\ttrain-logloss:0.667727\tvalid-logloss:0.667779\n",
      "[50]\ttrain-logloss:0.357567\tvalid-logloss:0.3582\n",
      "[100]\ttrain-logloss:0.335173\tvalid-logloss:0.336444\n",
      "[150]\ttrain-logloss:0.328444\tvalid-logloss:0.330295\n",
      "[200]\ttrain-logloss:0.322899\tvalid-logloss:0.325387\n",
      "[250]\ttrain-logloss:0.319014\tvalid-logloss:0.321961\n",
      "[300]\ttrain-logloss:0.315674\tvalid-logloss:0.31909\n",
      "[350]\ttrain-logloss:0.313182\tvalid-logloss:0.316996\n",
      "[400]\ttrain-logloss:0.311084\tvalid-logloss:0.315397\n",
      "[450]\ttrain-logloss:0.30905\tvalid-logloss:0.313825\n"
     ]
    }
   ],
   "source": [
    "import xgboost as xgb\n",
    "from sklearn.cross_validation import train_test_split\n",
    "\n",
    "x_train, x_valid, y_train, y_valid = train_test_split(x_train, y_train, test_size=0.1, random_state=2017)\n",
    "\n",
    "params = {}\n",
    "params[\"objective\"] = \"binary:logistic\"\n",
    "params['eval_metric'] = 'logloss'\n",
    "params[\"eta\"] = 0.05\n",
    "params[\"subsample\"] = 0.7\n",
    "params[\"min_child_weight\"] = 1\n",
    "params[\"colsample_bytree\"] = 0.7\n",
    "params[\"max_depth\"] = 5\n",
    "params[\"silent\"] = 1\n",
    "params[\"seed\"] = 2107\n",
    "\n",
    "d_train = xgb.DMatrix(x_train, label=y_train)\n",
    "d_valid = xgb.DMatrix(x_valid, label=y_valid)\n",
    "\n",
    "watchlist = [(d_train, 'train'), (d_valid, 'valid')]\n",
    "\n",
    "bst = xgb.train(params, d_train, 500, watchlist, verbose_eval=50)"
   ]
  },
  {
   "cell_type": "code",
   "execution_count": 814,
   "metadata": {
    "collapsed": false,
    "deletable": true,
    "editable": true
   },
   "outputs": [
    {
     "data": {
      "image/png": "[encoded data removed]",
      "text/plain": [
       "<matplotlib.figure.Figure at 0x7faf246c3748>"
      ]
     },
     "metadata": {},
     "output_type": "display_data"
    }
   ],
   "source": [
    "plt.rcParams['figure.figsize'] = (10, 7.0)\n",
    "xgb.plot_importance(bst); plt.show()"
   ]
  },
  {
   "cell_type": "markdown",
   "metadata": {},
   "source": [
    "### Question pairs on which the model is wrong"
   ]
  },
  {
   "cell_type": "code",
   "execution_count": null,
   "metadata": {
    "collapsed": true
   },
   "outputs": [],
   "source": [
    "def loss(y, pred):\n",
    "    return  - (y * np.log(pred) + (1 - y) * np.log(1 - pred))"
   ]
  },
  {
   "cell_type": "code",
   "execution_count": 812,
   "metadata": {
    "collapsed": false,
    "deletable": true,
    "editable": true
   },
   "outputs": [],
   "source": [
    "monitoring = pd.DataFrame(index=x_valid.index, data={'y': list(y_valid), 'pred': list(bst.predict(d_valid))})\n",
    "monitoring = pd.concat((monitoring, train_data.loc[x_valid.index][['question1','question2']]), axis=1)"
   ]
  },
  {
   "cell_type": "code",
   "execution_count": 813,
   "metadata": {
    "collapsed": false,
    "deletable": true,
    "editable": true
   },
   "outputs": [],
   "source": [
    "nondupicates = monitoring[monitoring.y == 0].sort('pred', ascending=False)\n",
    "dupicates = monitoring[monitoring.y == 1].sort('pred')\n",
    "monitoring['loss'] = monitoring.apply(lambda x: loss(x.y, x.pred), axis=1)\n",
    "monitoring.sort('loss', ascending=False, inplace=True)"
   ]
  },
  {
   "cell_type": "code",
   "execution_count": 879,
   "metadata": {
    "collapsed": false
   },
   "outputs": [
    {
     "data": {
      "image/png": "[encoded data removed]",
      "text/plain": [
       "<matplotlib.figure.Figure at 0x7fb1fb4a0ac8>"
      ]
     },
     "metadata": {},
     "output_type": "display_data"
    }
   ],
   "source": [
    "plt.figure(figsize=(18,5))\n",
    "\n",
    "plt.subplot(1,2,1)\n",
    "plt.title(\"LogLoss\")\n",
    "plt.hist(monitoring[monitoring.y == 1]['loss'], bins=80, alpha=0.8, color='r', normed=True, label='Duplicate');\n",
    "plt.hist(monitoring[monitoring.y == 0]['loss'], bins=80, alpha=0.7, normed=True, label='Non-duplicate');\n",
    "plt.legend()\n",
    "\n",
    "plt.subplot(1,2,2)\n",
    "plt.title(\"Probability\")\n",
    "plt.hist(monitoring[monitoring.y == 1]['pred'], bins=80, alpha=0.8, color='r', normed=True, label='Duplicate');\n",
    "plt.hist(monitoring[monitoring.y == 0]['pred'], bins=80, alpha=0.7, normed=True, label='Non-duplicate');\n",
    "plt.legend();"
   ]
  },
  {
   "cell_type": "code",
   "execution_count": 886,
   "metadata": {
    "collapsed": false
   },
   "outputs": [
    {
     "name": "stdout",
     "output_type": "stream",
     "text": [
      "Prediction: 0.0007\n",
      "LogLoss: 7.1957\n",
      "I got the Pokemon Y rom but I cannot find the emulator. Where can I find it?\n",
      "How can I play Pokemon X and Y on a PC? \n",
      "\n",
      "Prediction: 0.0008\n",
      "LogLoss: 7.1844\n",
      "What ethnicity were the Moors of Sicily?\n",
      "Who were the moors? \n",
      "\n",
      "Prediction: 0.0008\n",
      "LogLoss: 7.1019\n",
      "What if Bernie Sanders had won the Democratic nomination, would he have been chosen as president?\n",
      "Could Sanders have won had Hillary not stole the election from him? \n",
      "\n",
      "Prediction: 0.0008\n",
      "LogLoss: 7.0787\n",
      "If Hannibal was a great general, how come he didn't attack Rome when he had the chance?\n",
      "Why didn't Hannibal besiege Rome after he destroyed the armies Rome had sent to defeat him? Couldn't he lay siege to Rome and eventually make it surrender by starving its people? \n",
      "\n",
      "Prediction: 0.0023\n",
      "LogLoss: 6.0900\n",
      "What are advantages of BITS over IIT and vice versa?\n",
      "Why would someone choose BITS Pilani over IIT? \n",
      "\n",
      "Prediction: 0.0028\n",
      "LogLoss: 5.8865\n",
      "What existed before space and time?\n",
      "What was there before the \"beginning\"? \n",
      "\n",
      "Prediction: 0.0037\n",
      "LogLoss: 5.5991\n",
      "Can I travel outside USA while my OPT Extension application is still pending?\n",
      "Is it safe/risky to travel to India while waiting for OPT (EAD) approval? \n",
      "\n",
      "Prediction: 0.0038\n",
      "LogLoss: 5.5783\n",
      "Why hasn't he contacted me at all for two days after our date where he tried to kiss me and texted that nite that he had a lot of fun?\n",
      "If a man texted five minutes after the first date to say he had fun, why won't he text me the next day? How can he be trying to play it cool now? \n",
      "\n",
      "Prediction: 0.0042\n",
      "LogLoss: 5.4641\n",
      "Do female Quorans get more followers and upvotes than male Quorans?\n",
      "Why do generally girls have more followers in Quora than boys have? \n",
      "\n",
      "Prediction: 0.0050\n",
      "LogLoss: 5.3054\n",
      "What do I do after vomiting?\n",
      "What should you do after you vomit? \n",
      "\n",
      "Prediction: 0.0051\n",
      "LogLoss: 5.2804\n",
      "I got back together for the 3rd time with my ex boyfriend. Should I tell him now about the cheating for the last 2y in our past relationship?\n",
      "I was kinda cheating on my boyfriend but now I'm feeling guilty. Should I tell him about it? \n",
      "\n",
      "Prediction: 0.0053\n",
      "LogLoss: 5.2376\n",
      "Is feminism going too far in western countries?\n",
      "Do you think that there are some ways that feminism has gone too far? \n",
      "\n",
      "Prediction: 0.0054\n",
      "LogLoss: 5.2162\n",
      "What existed before existence?\n",
      "What was there before the \"beginning\"? \n",
      "\n",
      "Prediction: 0.0063\n",
      "LogLoss: 5.0694\n",
      "What Modi will do after banned of 500 and 100?\n",
      "What would be next strike from PM Modi after Demonetisation? \n",
      "\n",
      "Prediction: 0.0063\n",
      "LogLoss: 5.0608\n",
      "How do I stop my dogs from barking at neighbors' dogs?\n",
      "What are the best ways to stop a dog from barking? \n",
      "\n",
      "Prediction: 0.0065\n",
      "LogLoss: 5.0343\n",
      "How do we protect our ideas from being copied by others?\n",
      "How can I prevent an idea from being copied? \n",
      "\n",
      "Prediction: 0.0081\n",
      "LogLoss: 4.8099\n",
      "What would you change about Quora?\n",
      "What about Quora should be changed? \n",
      "\n",
      "Prediction: 0.0087\n",
      "LogLoss: 4.7428\n",
      "How can I stop my dog from chewing my shoes?\n",
      "How do you stop German Shepherd/Husky puppies from biting your stuff? \n",
      "\n",
      "Prediction: 0.0098\n",
      "LogLoss: 4.6279\n",
      "Do you think that I abuse Quora by asking far more questions than answering?\n",
      "Is it better to ask more questions than you answer on Quora? \n",
      "\n",
      "Prediction: 0.0106\n",
      "LogLoss: 4.5428\n",
      "Is that possible to increase height after age 21? If possible, how?\n",
      "Will I be taller even after 21? \n",
      "\n",
      "Prediction: 0.0107\n",
      "LogLoss: 4.5344\n",
      "What kinds of thing can young people learn from old people?\n",
      "How do children learn from us? \n",
      "\n"
     ]
    }
   ],
   "source": [
    "for i in range(len(monitoring)):\n",
    "    print(\"Prediction: %.4f\" % monitoring['pred'].iloc[i])\n",
    "    print(\"LogLoss: %.4f\" % monitoring['loss'].iloc[i])\n",
    "    print(dupicates['question1'].iloc[i])\n",
    "    print(dupicates['question2'].iloc[i], \"\\n\")\n",
    "    if i == 20:\n",
    "        break"
   ]
  },
  {
   "cell_type": "markdown",
   "metadata": {},
   "source": [
    "**False negative**"
   ]
  },
  {
   "cell_type": "code",
   "execution_count": 885,
   "metadata": {
    "collapsed": false,
    "deletable": true,
    "editable": true
   },
   "outputs": [
    {
     "name": "stdout",
     "output_type": "stream",
     "text": [
      "0.000749797560275\n",
      "I got the Pokemon Y rom but I cannot find the emulator. Where can I find it?\n",
      "How can I play Pokemon X and Y on a PC? \n",
      "\n",
      "0.000758338253945\n",
      "What ethnicity were the Moors of Sicily?\n",
      "Who were the moors? \n",
      "\n",
      "0.000823501788545\n",
      "What if Bernie Sanders had won the Democratic nomination, would he have been chosen as president?\n",
      "Could Sanders have won had Hillary not stole the election from him? \n",
      "\n",
      "0.000842880399432\n",
      "If Hannibal was a great general, how come he didn't attack Rome when he had the chance?\n",
      "Why didn't Hannibal besiege Rome after he destroyed the armies Rome had sent to defeat him? Couldn't he lay siege to Rome and eventually make it surrender by starving its people? \n",
      "\n",
      "0.00226548477076\n",
      "What are advantages of BITS over IIT and vice versa?\n",
      "Why would someone choose BITS Pilani over IIT? \n",
      "\n",
      "0.00277670589276\n",
      "What existed before space and time?\n",
      "What was there before the \"beginning\"? \n",
      "\n",
      "0.00370135204867\n",
      "Can I travel outside USA while my OPT Extension application is still pending?\n",
      "Is it safe/risky to travel to India while waiting for OPT (EAD) approval? \n",
      "\n",
      "0.0037788762711\n",
      "Why hasn't he contacted me at all for two days after our date where he tried to kiss me and texted that nite that he had a lot of fun?\n",
      "If a man texted five minutes after the first date to say he had fun, why won't he text me the next day? How can he be trying to play it cool now? \n",
      "\n",
      "0.0042362594977\n",
      "Do female Quorans get more followers and upvotes than male Quorans?\n",
      "Why do generally girls have more followers in Quora than boys have? \n",
      "\n",
      "0.00496476050466\n",
      "What do I do after vomiting?\n",
      "What should you do after you vomit? \n",
      "\n",
      "0.00509053142741\n",
      "I got back together for the 3rd time with my ex boyfriend. Should I tell him now about the cheating for the last 2y in our past relationship?\n",
      "I was kinda cheating on my boyfriend but now I'm feeling guilty. Should I tell him about it? \n",
      "\n",
      "0.00531282275915\n",
      "Is feminism going too far in western countries?\n",
      "Do you think that there are some ways that feminism has gone too far? \n",
      "\n",
      "0.0054279291071\n",
      "What existed before existence?\n",
      "What was there before the \"beginning\"? \n",
      "\n",
      "0.00628635333851\n",
      "What Modi will do after banned of 500 and 100?\n",
      "What would be next strike from PM Modi after Demonetisation? \n",
      "\n",
      "0.00634052278474\n",
      "How do I stop my dogs from barking at neighbors' dogs?\n",
      "What are the best ways to stop a dog from barking? \n",
      "\n",
      "0.00651068799198\n",
      "How do we protect our ideas from being copied by others?\n",
      "How can I prevent an idea from being copied? \n",
      "\n",
      "0.00814905762672\n",
      "What would you change about Quora?\n",
      "What about Quora should be changed? \n",
      "\n",
      "0.0087145799771\n",
      "How can I stop my dog from chewing my shoes?\n",
      "How do you stop German Shepherd/Husky puppies from biting your stuff? \n",
      "\n",
      "0.00977490376681\n",
      "Do you think that I abuse Quora by asking far more questions than answering?\n",
      "Is it better to ask more questions than you answer on Quora? \n",
      "\n",
      "0.0106434589252\n",
      "Is that possible to increase height after age 21? If possible, how?\n",
      "Will I be taller even after 21? \n",
      "\n",
      "0.0107336333022\n",
      "What kinds of thing can young people learn from old people?\n",
      "How do children learn from us? \n",
      "\n"
     ]
    }
   ],
   "source": [
    "for i in range(len(monitoring)):\n",
    "    print(dupicates['pred'].iloc[i])\n",
    "    print(dupicates['question1'].iloc[i])\n",
    "    print(dupicates['question2'].iloc[i], \"\\n\")\n",
    "    if i == 20:\n",
    "        break"
   ]
  },
  {
   "cell_type": "markdown",
   "metadata": {},
   "source": [
    "**False positive**"
   ]
  },
  {
   "cell_type": "code",
   "execution_count": 887,
   "metadata": {
    "collapsed": false
   },
   "outputs": [
    {
     "name": "stdout",
     "output_type": "stream",
     "text": [
      "0.933835506439\n",
      "What is the output of this program? ?\n",
      "What is the output of this program? \n",
      "\n",
      "0.895287811756\n",
      "As a theist, what do you wish atheists knew?\n",
      "As an atheist, what do you wish theists knew? \n",
      "\n",
      "0.894331037998\n",
      "How do you solve the following recursion using recursion tree?\n",
      "How do I solve the following recursion using recursion tree? \n",
      "\n",
      "0.891326129436\n",
      "What is difference between braced and unbraced frames?\n",
      "What is the difference between braced and unbraced frames? \n",
      "\n",
      "0.880692362785\n",
      "What my palm line says?\n",
      "What my palm lines say? \n",
      "\n",
      "0.880252957344\n",
      "What is the activation energy?\n",
      "What is activation energy? \n",
      "\n",
      "0.879678845406\n",
      "Why in katy Perry -part of me song the watch get highlighted? See the image\n",
      "Why in katy Perry -part of me song the watch get highlighted? See the image? \n",
      "\n",
      "0.877382278442\n",
      "Jimmy Kimmel or Jimmy Fallon?\n",
      "Who is a better host according to you, Jimmy Kimmel or Jimmy Fallon? \n",
      "\n",
      "0.87647652626\n",
      "What are the characteristics of limestone?\n",
      "What is the characteristic of limestone? \n",
      "\n",
      "0.874862968922\n",
      "What is the english translation for the word in the image?\n",
      "What is the english translation of the word in the image? \n",
      "\n",
      "0.874561786652\n",
      "How would you rephrase this sentence? \n",
      "How would you rephrase these sentences? \n",
      "\n",
      "0.874555051327\n",
      "Which are your favourite porn websites and why?\n",
      "Which is your favourite porn websites and why? \n",
      "\n",
      "0.871074557304\n",
      "Which is the most beautiful place in Chhattisgarh?\n",
      "Which is the most beautiful palace in Chhattisgarh? \n",
      "\n",
      "0.869333744049\n",
      "What makes the clouds move?\n",
      "What makes clouds move? \n",
      "\n",
      "0.868939578533\n",
      "How do I get rid of stuttering?\n",
      "How can I get rid of stuttering? \n",
      "\n",
      "0.868422150612\n",
      "How many languages do you know?\n",
      "How many languages do you know? How long did it take you to learn each one of them? \n",
      "\n",
      "0.864045917988\n",
      "How does this circuit works.\n",
      "How does this circuit work? \n",
      "\n",
      "0.85686391592\n",
      "What happened after Kurukshetra war?\n",
      "What happened after the Kurukshetra war? \n",
      "\n",
      "0.852682113647\n",
      "What is the future of HTML5 game development?\n",
      "What is the future of Of HTML5 game development? \n",
      "\n",
      "0.847002029419\n",
      "Can you solve this riddle?\n",
      "Can you solve these riddles? \n",
      "\n",
      "0.845052182674\n",
      "How did RBI know that Urjit Patel would be RBI governor 6 months before and start printing the 2000 rupee notes with his signature on them?\n",
      "How did RBI know that Urjit Patel would be RBI governor months before and start printing the 2000 Rupee notes with his signature on them? \n",
      "\n"
     ]
    }
   ],
   "source": [
    "for i in range(len(monitoring)):\n",
    "    print(nondupicates['pred'].iloc[i])\n",
    "    print(nondupicates['question1'].iloc[i])\n",
    "    print(nondupicates['question2'].iloc[i], \"\\n\")\n",
    "    if i == 20:\n",
    "        break"
   ]
  },
  {
   "cell_type": "markdown",
   "metadata": {},
   "source": [
    "## Prediction"
   ]
  },
  {
   "cell_type": "code",
   "execution_count": 800,
   "metadata": {
    "collapsed": false,
    "deletable": true,
    "editable": true
   },
   "outputs": [],
   "source": [
    "d_test = xgb.DMatrix(X_test)\n",
    "p_test = bst.predict(d_test)\n",
    "\n",
    "sub = pd.DataFrame()\n",
    "sub['test_id'] = sample['test_id']\n",
    "sub['is_duplicate'] = p_test\n",
    "sub.to_csv('simple_xgb.csv', index=False)"
   ]
  },
  {
   "cell_type": "code",
   "execution_count": null,
   "metadata": {
    "collapsed": true
   },
   "outputs": [],
   "source": []
  }
 ],
 "metadata": {
  "kernelspec": {
   "display_name": "Python [conda env:py35]",
   "language": "python",
   "name": "conda-env-py35-py"
  },
  "language_info": {
   "codemirror_mode": {
    "name": "ipython",
    "version": 3
   },
   "file_extension": ".py",
   "mimetype": "text/x-python",
   "name": "python",
   "nbconvert_exporter": "python",
   "pygments_lexer": "ipython3",
   "version": "3.5.2"
  }
 },
 "nbformat": 4,
 "nbformat_minor": 2
}
