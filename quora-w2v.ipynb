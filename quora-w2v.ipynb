{
 "cells": [
  {
   "cell_type": "markdown",
   "metadata": {},
   "source": [
    "# Quora Question Pairs\n",
    "# Part 2. Deep NLP\n",
    "\n",
    "[Kaggle competition](https://www.kaggle.com/c/quora-question-pairs)   \n",
    "Anthony Kulesh  \n",
    "Spring 2017\n",
    "\n",
    "![Caption for the picture.](http://resource.mymagic.my/wp-content/uploads/2015/12/quora-e1451290677883.png)\n",
    "\n",
    "## Description\n",
    "Where else but Quora can a physicist help a chef with a math problem and get cooking tips in return? Quora is a place to gain and share knowledge—about anything. It’s a platform to ask questions and connect with people who contribute unique insights and quality answers. This empowers people to learn from each other and to better understand the world.\n",
    "\n",
    "Over 100 million people visit Quora every month, so it's no surprise that many people ask similarly worded questions. Multiple questions with the same intent can cause seekers to spend more time finding the best answer to their question, and make writers feel they need to answer multiple versions of the same question. Quora values canonical questions because they provide a better experience to active seekers and writers, and offer more value to both of these groups in the long term.\n",
    "\n",
    "Currently, Quora uses a Random Forest model to identify duplicate questions. In this competition, Kagglers are challenged to tackle this natural language processing problem by applying advanced techniques to classify whether question pairs are duplicates or not. Doing so will make it easier to find high quality answers to questions resulting in an improved experience for Quora writers, seekers, and readers.\n",
    "\n",
    "## Evaluation\n",
    "Submissions are evaluated on the log loss between the predicted values and the ground truth.  \n",
    "\n",
    "$$-log P(y_{true}|~y_{pred}) = -(y_{true} * log(y_{pred}) + (1-y_{true}) * log(1-y_{pred}))$$\n",
    "\n",
    "## Solutions\n",
    "1. Abhishek Thakur. [Is That a Duplicate Quora Question?](https://www.linkedin.com/pulse/duplicate-quora-question-abhishek-thakur)  \n",
    "2. @the1owl. [Matching ¿Que? for Quora - End to End 0.33719 PB](https://www.kaggle.com/the1owl/quora-question-pairs/matching-que-for-quora-end-to-end-0-33719-pb)  \n",
    "3. @qianqian. [fm benchmark with tfidf around 29](https://github.com/qqgeogor/kaggle_quora_benchmark)\n",
    "\n",
    "## Useful sources\n",
    "1. [Discriminative Phrase Embedding for Paraphrase Identification](https://arxiv.org/pdf/1604.00503.pdf) \n",
    "2. [LogLoss calibration](https://github.com/numeristical/introspective)  \n",
    "3. [3 Idiots' Solution & LIBFFM](https://www.kaggle.com/c/criteo-display-ad-challenge/discussion/10555)  \n",
    "4. [From Word Embeddings To Document Distances](http://jmlr.org/proceedings/papers/v37/kusnerb15.pdf)\n",
    "\n",
    "---\n",
    "## Loading data\n",
    "Required libraries"
   ]
  },
  {
   "cell_type": "code",
   "execution_count": 1,
   "metadata": {
    "collapsed": true
   },
   "outputs": [],
   "source": [
    "import time\n",
    "import warnings\n",
    "warnings.filterwarnings('ignore')\n",
    "\n",
    "import pickle\n",
    "import pandas as pd\n",
    "import numpy as np\n",
    "\n",
    "import seaborn as sns\n",
    "import matplotlib.pyplot as plt\n",
    "%matplotlib inline\n",
    "\n",
    "import gensim \n",
    "from nltk.corpus import stopwords\n",
    "stops = set(stopwords.words(\"english\"))\n",
    "\n",
    "#import ml_insights as mli\n",
    "import scipy.spatial as sp\n",
    "from scipy.stats import skew, kurtosis\n",
    "from scipy.spatial import distance\n",
    "from sklearn import metrics\n",
    "from sklearn.metrics import log_loss\n",
    "from sklearn.metrics.pairwise import cosine_similarity\n",
    "from sklearn.feature_extraction.text import CountVectorizer, TfidfVectorizer\n",
    "from sklearn.pipeline import Pipeline\n",
    "from sklearn.model_selection import cross_val_score"
   ]
  },
  {
   "cell_type": "markdown",
   "metadata": {},
   "source": [
    "Data"
   ]
  },
  {
   "cell_type": "code",
   "execution_count": 2,
   "metadata": {
    "collapsed": true
   },
   "outputs": [],
   "source": [
    "path_to_data = '/home/data/share/quora/'\n",
    "\n",
    "qtrain = pd.read_csv('questions_train.csv', header=None)\n",
    "qtest = pd.read_csv('questions_test.csv', header=None).fillna('empty')\n",
    "all_questions = pd.concat((qtrain, qtest))\n",
    "\n",
    "qtrain_lem = pd.read_csv('questions_train_lem.csv', header=None)\n",
    "qtest_lem = pd.read_csv('questions_test_lem.csv', header=None).fillna('empty')\n",
    "all_questions_lem = pd.concat((qtrain_lem, qtest_lem))\n",
    "\n",
    "# target\n",
    "Y_train = pd.read_csv(path_to_data + 'train.csv', usecols=['is_duplicate'])"
   ]
  },
  {
   "cell_type": "markdown",
   "metadata": {},
   "source": [
    "Features"
   ]
  },
  {
   "cell_type": "code",
   "execution_count": 3,
   "metadata": {
    "collapsed": true
   },
   "outputs": [],
   "source": [
    "X_train = pd.read_csv('train_f1.csv')\n",
    "X_test = pd.read_csv('test_f1.csv')\n",
    "\n",
    "n_train, n_test = len(X_train), len(X_test)"
   ]
  },
  {
   "cell_type": "markdown",
   "metadata": {},
   "source": [
    "Sample submission"
   ]
  },
  {
   "cell_type": "code",
   "execution_count": 4,
   "metadata": {},
   "outputs": [
    {
     "data": {
      "text/html": [
       "<div>\n",
       "<table border=\"1\" class=\"dataframe\">\n",
       "  <thead>\n",
       "    <tr style=\"text-align: right;\">\n",
       "      <th></th>\n",
       "      <th>test_id</th>\n",
       "      <th>is_duplicate</th>\n",
       "    </tr>\n",
       "  </thead>\n",
       "  <tbody>\n",
       "    <tr>\n",
       "      <th>0</th>\n",
       "      <td>0</td>\n",
       "      <td>1</td>\n",
       "    </tr>\n",
       "    <tr>\n",
       "      <th>1</th>\n",
       "      <td>1</td>\n",
       "      <td>1</td>\n",
       "    </tr>\n",
       "    <tr>\n",
       "      <th>2</th>\n",
       "      <td>2</td>\n",
       "      <td>1</td>\n",
       "    </tr>\n",
       "    <tr>\n",
       "      <th>3</th>\n",
       "      <td>3</td>\n",
       "      <td>1</td>\n",
       "    </tr>\n",
       "    <tr>\n",
       "      <th>4</th>\n",
       "      <td>4</td>\n",
       "      <td>1</td>\n",
       "    </tr>\n",
       "  </tbody>\n",
       "</table>\n",
       "</div>"
      ],
      "text/plain": [
       "   test_id  is_duplicate\n",
       "0        0             1\n",
       "1        1             1\n",
       "2        2             1\n",
       "3        3             1\n",
       "4        4             1"
      ]
     },
     "execution_count": 4,
     "metadata": {},
     "output_type": "execute_result"
    }
   ],
   "source": [
    "sample = pd.read_csv(path_to_data + 'sample_submission.csv')\n",
    "sample.head()"
   ]
  },
  {
   "cell_type": "markdown",
   "metadata": {},
   "source": [
    "## Pickling data"
   ]
  },
  {
   "cell_type": "code",
   "execution_count": 5,
   "metadata": {
    "collapsed": true
   },
   "outputs": [],
   "source": [
    "def pickling_data(name, data):\n",
    "    out = open(name + '.pkl', 'wb')\n",
    "    pickle.dump(data, out)\n",
    "    out.close()\n",
    "    \n",
    "def load_data(name):\n",
    "    pkl_file = open(name + '.pkl', 'rb')\n",
    "    data = pickle.load(pkl_file)\n",
    "    pkl_file.close()\n",
    "    return data"
   ]
  },
  {
   "cell_type": "markdown",
   "metadata": {},
   "source": [
    "## Word2Vec\n",
    "### Google-News"
   ]
  },
  {
   "cell_type": "code",
   "execution_count": 75,
   "metadata": {
    "collapsed": true
   },
   "outputs": [],
   "source": [
    "path_to_model = '/home/data/word2vec/english/'\n",
    "model_name = 'GoogleNews-vectors-negative300.bin'"
   ]
  },
  {
   "cell_type": "code",
   "execution_count": 76,
   "metadata": {
    "collapsed": true
   },
   "outputs": [],
   "source": [
    "model_news = gensim.models.KeyedVectors.load_word2vec_format(path_to_model + model_name, binary=True)"
   ]
  },
  {
   "cell_type": "markdown",
   "metadata": {},
   "source": [
    "#### Question vector"
   ]
  },
  {
   "cell_type": "code",
   "execution_count": 77,
   "metadata": {},
   "outputs": [
    {
     "name": "stdout",
     "output_type": "stream",
     "text": [
      "Vocabulary size: 3000000\n"
     ]
    }
   ],
   "source": [
    "voc = set(model_news.index2word)\n",
    "print(\"Vocabulary size: %d\" % len(voc))"
   ]
  },
  {
   "cell_type": "code",
   "execution_count": 78,
   "metadata": {
    "collapsed": true
   },
   "outputs": [],
   "source": [
    "def makeFeatureVec(words, model, voc, num_features, stop=True):\n",
    "\n",
    "    featureVec = np.zeros((num_features,),dtype=\"float32\")\n",
    "    nwords = 0.\n",
    "    \n",
    "    for word in words.split():\n",
    "        if stop:\n",
    "            if word in voc: \n",
    "                nwords = nwords + 1.\n",
    "                featureVec = np.add(featureVec,model[word])\n",
    "        elif (word in voc) and (word not in stops):\n",
    "            nwords = nwords + 1.\n",
    "            featureVec = np.add(featureVec,model[word])\n",
    "        \n",
    "\n",
    "    featureVec = np.divide(featureVec,nwords + 1)\n",
    "    return featureVec\n",
    "\n",
    "\n",
    "def getAvgFeatureVecs(questions, model, voc, num_features, stop=True):\n",
    "    counter = 0.\n",
    "    questionFeatureVecs = np.zeros((len(questions),num_features),dtype=\"float32\")\n",
    "    for question in questions:\n",
    "        questionFeatureVecs[counter] = makeFeatureVec(question, model, \\\n",
    "           voc, num_features, stop)\n",
    "\n",
    "        counter = counter + 1.\n",
    "    return questionFeatureVecs"
   ]
  },
  {
   "cell_type": "code",
   "execution_count": 79,
   "metadata": {},
   "outputs": [
    {
     "name": "stdout",
     "output_type": "stream",
     "text": [
      "CPU times: user 4min 38s, sys: 9.83 s, total: 4min 47s\n",
      "Wall time: 5min 8s\n",
      "Compiler : 140 ms\n"
     ]
    }
   ],
   "source": [
    "%%time\n",
    "num_features = 300\n",
    "trainDataVecs_stop = getAvgFeatureVecs(qtrain[0], model_news, voc, num_features)\n",
    "trainDataVecs = getAvgFeatureVecs(qtrain[0], model_news, voc, num_features, stop=False)\n",
    "\n",
    "testDataVecs_stop = getAvgFeatureVecs(qtest[0], model_news, voc, num_features)\n",
    "testDataVecs = getAvgFeatureVecs(qtest[0], model_news, voc, num_features, stop=False)"
   ]
  },
  {
   "cell_type": "markdown",
   "metadata": {},
   "source": [
    "#### Word Mover's Distance"
   ]
  },
  {
   "cell_type": "code",
   "execution_count": 80,
   "metadata": {
    "collapsed": true
   },
   "outputs": [],
   "source": [
    "def wmd(q1, q2, model, stop=True):\n",
    "    q1 = q1.split()\n",
    "    q2 = q2.split()\n",
    "    if stop:\n",
    "        q1 = [w for w in q1 if w not in stops]\n",
    "        q2 = [w for w in q2 if w not in stops]\n",
    "    return model.wmdistance(q1, q2)"
   ]
  },
  {
   "cell_type": "code",
   "execution_count": 81,
   "metadata": {},
   "outputs": [
    {
     "name": "stdout",
     "output_type": "stream",
     "text": [
      "CPU times: user 3 µs, sys: 0 ns, total: 3 µs\n",
      "Wall time: 4.53 µs\n"
     ]
    }
   ],
   "source": [
    "%time\n",
    "\n",
    "X_train['wmd'] = [wmd(qtrain[0].loc[i], qtrain[0].loc[n_train + i], model_news) for i in range(n_train)]\n",
    "X_train['wmd_stop'] = [wmd(qtrain[0].loc[i], qtrain[0].loc[n_train + i], model_news, False) for i in range(n_train)]\n",
    "\n",
    "X_test['wmd'] = [wmd(qtest[0].loc[i], qtest[0].loc[n_test + i], model_news) for i in range(n_test)]\n",
    "X_test['wmd_stop'] = [wmd(qtest[0].loc[i], qtest[0].loc[n_test + i], model_news, False) for i in range(n_test)]"
   ]
  },
  {
   "cell_type": "code",
   "execution_count": 82,
   "metadata": {},
   "outputs": [
    {
     "data": {
      "image/png": "[encoded data removed]",
      "text/plain": [
       "<matplotlib.figure.Figure at 0x7fd2372fc4e0>"
      ]
     },
     "metadata": {},
     "output_type": "display_data"
    }
   ],
   "source": [
    "mask = Y_train['is_duplicate'] == 1\n",
    "\n",
    "plt.figure(figsize=(18,5))\n",
    "\n",
    "plt.subplot(1,2,1)\n",
    "plt.title(\"Word Mover`s Distance\")\n",
    "plt.hist(X_train['wmd'][mask], bins=80, range=[0,5], alpha=0.8, color='r', normed=True, label='Duplicate');\n",
    "plt.hist(X_train['wmd'][~mask], bins=80, alpha=0.7, range=[0,5], normed=True, label='Non-duplicate');\n",
    "plt.legend()\n",
    "\n",
    "plt.subplot(1,2,2)\n",
    "plt.title(\"Word Mover`s Distance with stopwords\")\n",
    "plt.hist(X_train['wmd_stop'][mask], bins=80, alpha=0.8, range=[0,5], color='r', normed=True, label='Duplicate');\n",
    "plt.hist(X_train['wmd_stop'][~mask], bins=80, alpha=0.7, range=[0,5], normed=True, label='Non-duplicate');\n",
    "plt.legend()\n",
    "plt.show()"
   ]
  },
  {
   "cell_type": "markdown",
   "metadata": {},
   "source": [
    "#### Cosine Similarity"
   ]
  },
  {
   "cell_type": "code",
   "execution_count": 83,
   "metadata": {
    "collapsed": true
   },
   "outputs": [],
   "source": [
    "def cos_sim(q1_mtx, q2_mtx, n=n_train):\n",
    "    \n",
    "    labels = np.append(np.arange(0, n, 30000), n)\n",
    "    sim = np.array([])\n",
    "\n",
    "    for i in range(len(labels)-1):\n",
    "        start = labels[i]\n",
    "        end = labels[i+1]\n",
    "        chunk = cosine_similarity(q1_mtx[start:end], q2_mtx[start:end], dense_output=False)\n",
    "        sim = np.append(sim, chunk.diagonal()) \n",
    "    return sim"
   ]
  },
  {
   "cell_type": "code",
   "execution_count": 84,
   "metadata": {},
   "outputs": [
    {
     "name": "stdout",
     "output_type": "stream",
     "text": [
      "CPU times: user 20min 48s, sys: 3min 25s, total: 24min 14s\n",
      "Wall time: 6min 21s\n"
     ]
    }
   ],
   "source": [
    "%%time\n",
    "\n",
    "X_train['w2v_news_cos'] = cos_sim(trainDataVecs[:n_train], trainDataVecs[n_train:], n=n_train)\n",
    "X_test['w2v_news_cos'] = cos_sim(testDataVecs[:n_test], testDataVecs[n_test:], n=n_test)\n",
    "\n",
    "X_train['w2v_news_stop_cos'] = cos_sim(trainDataVecs_stop[:n_train], trainDataVecs_stop[n_train:], n=n_train)\n",
    "X_test['w2v_news_stop_cos'] = cos_sim(testDataVecs_stop[:n_test], testDataVecs_stop[n_test:], n=n_test)"
   ]
  },
  {
   "cell_type": "code",
   "execution_count": 85,
   "metadata": {},
   "outputs": [
    {
     "data": {
      "image/png": "[encoded data removed]",
      "text/plain": [
       "<matplotlib.figure.Figure at 0x7fd2372bac18>"
      ]
     },
     "metadata": {},
     "output_type": "display_data"
    }
   ],
   "source": [
    "plt.figure(figsize=(18,5))\n",
    "\n",
    "plt.subplot(1,2,1)\n",
    "plt.title(\"Cosine similarity\")\n",
    "plt.hist(X_train['w2v_news_cos'][mask], bins=80, alpha=0.8, color='r', normed=True, label='Duplicate');\n",
    "plt.hist(X_train['w2v_news_cos'][~mask], bins=80, alpha=0.7, normed=True, label='Non-duplicate');\n",
    "plt.legend()\n",
    "\n",
    "plt.subplot(1,2,2)\n",
    "plt.title(\"Cosine similarity with stopwords\")\n",
    "plt.hist(X_train['w2v_news_stop_cos'][mask], bins=80, alpha=0.8, color='r', normed=True, label='Duplicate');\n",
    "plt.hist(X_train['w2v_news_stop_cos'][~mask], bins=80, alpha=0.7, normed=True, label='Non-duplicate');\n",
    "plt.legend()\n",
    "plt.show()"
   ]
  },
  {
   "cell_type": "markdown",
   "metadata": {
    "collapsed": true
   },
   "source": [
    "**Bray-Curtis distance**"
   ]
  },
  {
   "cell_type": "code",
   "execution_count": 86,
   "metadata": {},
   "outputs": [
    {
     "name": "stdout",
     "output_type": "stream",
     "text": [
      "CPU times: user 1min 15s, sys: 217 ms, total: 1min 15s\n",
      "Wall time: 1min 15s\n"
     ]
    }
   ],
   "source": [
    "%%time\n",
    "\n",
    "X_train['braycurtis'] = [distance.braycurtis(trainDataVecs[i], trainDataVecs[i + n_train]) for i in range(n_train)] \n",
    "X_test['braycurtis'] = [distance.braycurtis(testDataVecs[i], testDataVecs[i + n_test]) for i in range(n_test)] \n",
    "\n",
    "X_train['braycurtis_stop'] = [distance.braycurtis(trainDataVecs_stop[i], trainDataVecs_stop[i + n_train]) for i in range(n_train)] \n",
    "X_test['braycurtis_stop'] = [distance.braycurtis(testDataVecs_stop[i], testDataVecs_stop[i + n_test]) for i in range(n_test)] "
   ]
  },
  {
   "cell_type": "code",
   "execution_count": 87,
   "metadata": {
    "collapsed": true
   },
   "outputs": [],
   "source": [
    "X_train['braycurtis'].fillna(0, inplace=True)\n",
    "X_test['braycurtis'].fillna(0, inplace=True)\n",
    "X_train['braycurtis_stop'].fillna(0, inplace=True)\n",
    "X_test['braycurtis_stop'].fillna(0, inplace=True)"
   ]
  },
  {
   "cell_type": "code",
   "execution_count": 88,
   "metadata": {},
   "outputs": [
    {
     "data": {
      "image/png": "[encoded data removed]",
      "text/plain": [
       "<matplotlib.figure.Figure at 0x7fd236da7748>"
      ]
     },
     "metadata": {},
     "output_type": "display_data"
    }
   ],
   "source": [
    "plt.figure(figsize=(18,5))\n",
    "\n",
    "plt.subplot(1,2,1)\n",
    "plt.title(\"Bray-Curtis\")\n",
    "plt.hist(X_train['braycurtis'][mask], bins=80, alpha=0.8, color='r', normed=True, label='Duplicate');\n",
    "plt.hist(X_train['braycurtis'][~mask], bins=80, alpha=0.7, normed=True, label='Non-duplicate');\n",
    "plt.legend()\n",
    "\n",
    "plt.subplot(1,2,2)\n",
    "plt.title(\"Bray-Curtis with stopwords\")\n",
    "plt.hist(X_train['braycurtis_stop'][mask], bins=80, alpha=0.8, color='r', normed=True, label='Duplicate');\n",
    "plt.hist(X_train['braycurtis_stop'][~mask], bins=80, alpha=0.7, normed=True, label='Non-duplicate');\n",
    "plt.legend()\n",
    "plt.show()"
   ]
  },
  {
   "cell_type": "markdown",
   "metadata": {},
   "source": [
    "**Canberra distance**"
   ]
  },
  {
   "cell_type": "code",
   "execution_count": 89,
   "metadata": {},
   "outputs": [
    {
     "name": "stdout",
     "output_type": "stream",
     "text": [
      "CPU times: user 2min 17s, sys: 406 ms, total: 2min 17s\n",
      "Wall time: 2min 17s\n"
     ]
    }
   ],
   "source": [
    "%%time\n",
    "\n",
    "X_train['canberra'] = [distance.canberra(trainDataVecs[i], trainDataVecs[i + n_train]) for i in range(n_train)] \n",
    "X_test['canberra'] = [distance.canberra(testDataVecs[i], testDataVecs[i + n_test]) for i in range(n_test)] \n",
    "\n",
    "X_train['canberra_stop'] = [distance.canberra(trainDataVecs_stop[i], trainDataVecs_stop[i + n_train]) for i in range(n_train)] \n",
    "X_test['canberra_stop'] = [distance.canberra(testDataVecs_stop[i], testDataVecs_stop[i + n_test]) for i in range(n_test)] "
   ]
  },
  {
   "cell_type": "code",
   "execution_count": 90,
   "metadata": {},
   "outputs": [
    {
     "data": {
      "image/png": "[encoded data removed]",
      "text/plain": [
       "<matplotlib.figure.Figure at 0x7fd237189588>"
      ]
     },
     "metadata": {},
     "output_type": "display_data"
    }
   ],
   "source": [
    "plt.figure(figsize=(18,5))\n",
    "\n",
    "plt.subplot(1,2,1)\n",
    "plt.title(\"Canberra distance\")\n",
    "plt.hist(X_train['canberra'][mask], bins=80, alpha=0.8, color='r', normed=True, label='Duplicate');\n",
    "plt.hist(X_train['canberra'][~mask], bins=80, alpha=0.7, normed=True, label='Non-duplicate');\n",
    "plt.legend()\n",
    "\n",
    "plt.subplot(1,2,2)\n",
    "plt.title(\"Canberra distance with stopwords\")\n",
    "plt.hist(X_train['canberra_stop'][mask], bins=80, alpha=0.8, color='r', normed=True, label='Duplicate');\n",
    "plt.hist(X_train['canberra_stop'][~mask], bins=80, alpha=0.7, normed=True, label='Non-duplicate');\n",
    "plt.legend()\n",
    "plt.show()"
   ]
  },
  {
   "cell_type": "markdown",
   "metadata": {},
   "source": [
    "**Chebyshev distance**"
   ]
  },
  {
   "cell_type": "code",
   "execution_count": 91,
   "metadata": {},
   "outputs": [
    {
     "name": "stdout",
     "output_type": "stream",
     "text": [
      "CPU times: user 1min 53s, sys: 144 ms, total: 1min 53s\n",
      "Wall time: 1min 53s\n"
     ]
    }
   ],
   "source": [
    "%%time\n",
    "\n",
    "X_train['chebyshev'] = [distance.chebyshev(trainDataVecs[i], trainDataVecs[i + n_train]) for i in range(n_train)] \n",
    "X_test['chebyshev'] = [distance.chebyshev(testDataVecs[i], testDataVecs[i + n_test]) for i in range(n_test)] \n",
    "\n",
    "X_train['chebyshev_stop'] = [distance.chebyshev(trainDataVecs_stop[i], trainDataVecs_stop[i + n_train]) for i in range(n_train)] \n",
    "X_test['chebyshev_stop'] = [distance.chebyshev(testDataVecs_stop[i], testDataVecs_stop[i + n_test]) for i in range(n_test)] "
   ]
  },
  {
   "cell_type": "code",
   "execution_count": 92,
   "metadata": {},
   "outputs": [
    {
     "data": {
      "image/png": "[encoded data removed]",
      "text/plain": [
       "<matplotlib.figure.Figure at 0x7fd2369923c8>"
      ]
     },
     "metadata": {},
     "output_type": "display_data"
    }
   ],
   "source": [
    "plt.figure(figsize=(18,5))\n",
    "\n",
    "plt.subplot(1,2,1)\n",
    "plt.title(\"Chebyshev distance\")\n",
    "plt.hist(X_train['chebyshev'][mask], bins=80, alpha=0.8, color='r', normed=True, label='Duplicate');\n",
    "plt.hist(X_train['chebyshev'][~mask], bins=80, alpha=0.7, normed=True, label='Non-duplicate');\n",
    "plt.legend()\n",
    "\n",
    "plt.subplot(1,2,2)\n",
    "plt.title(\"Chebyshev distance with stopwords\")\n",
    "plt.hist(X_train['chebyshev_stop'][mask], bins=80, alpha=0.8, color='r', normed=True, label='Duplicate');\n",
    "plt.hist(X_train['chebyshev_stop'][~mask], bins=80, alpha=0.7, normed=True, label='Non-duplicate');\n",
    "plt.legend()\n",
    "plt.show()"
   ]
  },
  {
   "cell_type": "markdown",
   "metadata": {
    "collapsed": true
   },
   "source": [
    "**Correlation**"
   ]
  },
  {
   "cell_type": "code",
   "execution_count": 93,
   "metadata": {},
   "outputs": [
    {
     "name": "stdout",
     "output_type": "stream",
     "text": [
      "CPU times: user 4min 8s, sys: 932 ms, total: 4min 9s\n",
      "Wall time: 4min 8s\n"
     ]
    }
   ],
   "source": [
    "%%time\n",
    "\n",
    "X_train['correlation'] = [distance.correlation(trainDataVecs[i], trainDataVecs[i + n_train]) for i in range(n_train)] \n",
    "X_test['correlation'] = [distance.correlation(testDataVecs[i], testDataVecs[i + n_test]) for i in range(n_test)] \n",
    "\n",
    "X_train['correlation_stop'] = [distance.correlation(trainDataVecs_stop[i], trainDataVecs_stop[i + n_train]) for i in range(n_train)] \n",
    "X_test['correlation_stop'] = [distance.correlation(testDataVecs_stop[i], testDataVecs_stop[i + n_test]) for i in range(n_test)] "
   ]
  },
  {
   "cell_type": "code",
   "execution_count": 94,
   "metadata": {},
   "outputs": [
    {
     "data": {
      "image/png": "[encoded data removed]",
      "text/plain": [
       "<matplotlib.figure.Figure at 0x7fd2363f8358>"
      ]
     },
     "metadata": {},
     "output_type": "display_data"
    }
   ],
   "source": [
    "X_train['correlation'].fillna(0, inplace=True)\n",
    "X_test['correlation'].fillna(0, inplace=True)\n",
    "X_train['correlation_stop'].fillna(0, inplace=True)\n",
    "X_test['correlation_stop'].fillna(0, inplace=True)\n",
    "\n",
    "plt.figure(figsize=(18,5))\n",
    "\n",
    "plt.subplot(1,2,1)\n",
    "plt.title(\"Correlation\")\n",
    "plt.hist(X_train['correlation'][mask], bins=80, alpha=0.8, color='r', normed=True, label='Duplicate');\n",
    "plt.hist(X_train['correlation'][~mask], bins=80, alpha=0.7, normed=True, label='Non-duplicate');\n",
    "plt.legend()\n",
    "\n",
    "plt.subplot(1,2,2)\n",
    "plt.title(\"Correlation with stopwords\")\n",
    "plt.hist(X_train['correlation_stop'][mask], bins=80, alpha=0.8, color='r', normed=True, label='Duplicate');\n",
    "plt.hist(X_train['correlation_stop'][~mask], bins=80, alpha=0.7, normed=True, label='Non-duplicate');\n",
    "plt.legend()\n",
    "plt.show()"
   ]
  },
  {
   "cell_type": "code",
   "execution_count": 95,
   "metadata": {
    "collapsed": true
   },
   "outputs": [],
   "source": [
    "features = ['wmd', 'wmd_stop', 'w2v_news_cos', 'w2v_news_stop_cos', 'braycurtis',\n",
    "           'braycurtis_stop', 'canberra', 'canberra_stop', 'chebyshev',\n",
    "           'chebyshev_stop', 'correlation', 'correlation_stop']\n",
    "\n",
    "X_train[features].to_csv('train_f2.csv')\n",
    "X_test[features].to_csv('test_f2.csv')"
   ]
  },
  {
   "cell_type": "code",
   "execution_count": null,
   "metadata": {
    "collapsed": true
   },
   "outputs": [],
   "source": []
  },
  {
   "cell_type": "markdown",
   "metadata": {},
   "source": [
    "### fastText"
   ]
  },
  {
   "cell_type": "code",
   "execution_count": 6,
   "metadata": {
    "collapsed": true
   },
   "outputs": [],
   "source": [
    "from gensim.models.wrappers.fasttext import FastText"
   ]
  },
  {
   "cell_type": "code",
   "execution_count": 19,
   "metadata": {
    "collapsed": true
   },
   "outputs": [],
   "source": [
    "path_to_model = '/home/data/share/quora/'\n",
    "model_name = 'wiki.en.vec'"
   ]
  },
  {
   "cell_type": "code",
   "execution_count": 20,
   "metadata": {
    "collapsed": true
   },
   "outputs": [],
   "source": [
    "model_wiki = gensim.models.KeyedVectors.load_word2vec_format(path_to_model + model_name)"
   ]
  },
  {
   "cell_type": "code",
   "execution_count": 22,
   "metadata": {},
   "outputs": [
    {
     "data": {
      "text/plain": [
       "[('bakemon', 0.6107435822486877),\n",
       " ('zeemon', 0.6031841039657593),\n",
       " ('pókemon', 0.5931164026260376),\n",
       " ('kemon', 0.5926529765129089),\n",
       " ('pocker', 0.5873712301254272),\n",
       " ('vikemon', 0.5643651485443115),\n",
       " ('loweemon', 0.5612303018569946),\n",
       " ('pocketsurfer', 0.5611239671707153),\n",
       " ('eggrobo', 0.5609921216964722),\n",
       " ('shinobibe', 0.5602366924285889)]"
      ]
     },
     "execution_count": 22,
     "metadata": {},
     "output_type": "execute_result"
    }
   ],
   "source": [
    "model_wiki.most_similar('pockemon')"
   ]
  },
  {
   "cell_type": "markdown",
   "metadata": {},
   "source": [
    "**Vector representations of questions**"
   ]
  },
  {
   "cell_type": "code",
   "execution_count": 27,
   "metadata": {},
   "outputs": [
    {
     "name": "stdout",
     "output_type": "stream",
     "text": [
      "Vocabulary size: 2519370\n"
     ]
    }
   ],
   "source": [
    "voc = model_wiki.vocab\n",
    "print(\"Vocabulary size: %d\" % len(voc))"
   ]
  },
  {
   "cell_type": "code",
   "execution_count": 29,
   "metadata": {},
   "outputs": [
    {
     "name": "stdout",
     "output_type": "stream",
     "text": [
      "CPU times: user 7min 31s, sys: 10.3 s, total: 7min 41s\n",
      "Wall time: 9min 8s\n"
     ]
    }
   ],
   "source": [
    "%%time\n",
    "num_features = 300\n",
    "trainDataVecs_stop = getAvgFeatureVecs(qtrain[0], model_wiki, voc, num_features)\n",
    "trainDataVecs = getAvgFeatureVecs(qtrain[0], model_wiki, voc, num_features, stop=False)\n",
    "\n",
    "testDataVecs_stop = getAvgFeatureVecs(qtest[0], model_wiki, voc, num_features)\n",
    "testDataVecs = getAvgFeatureVecs(qtest[0], model_wiki, voc, num_features, stop=False)"
   ]
  },
  {
   "cell_type": "markdown",
   "metadata": {},
   "source": [
    "**Cosine Similarity**"
   ]
  },
  {
   "cell_type": "code",
   "execution_count": 34,
   "metadata": {},
   "outputs": [
    {
     "name": "stdout",
     "output_type": "stream",
     "text": [
      "CPU times: user 29min 20s, sys: 5min 10s, total: 34min 31s\n",
      "Wall time: 14min\n"
     ]
    }
   ],
   "source": [
    "%%time\n",
    "\n",
    "X_train['wiki_cos'] = cos_sim(trainDataVecs[:n_train], trainDataVecs[n_train:], n=n_train)\n",
    "X_test['wiki_cos'] = cos_sim(testDataVecs[:n_test], testDataVecs[n_test:], n=n_test)\n",
    "\n",
    "X_train['wiki_stop_cos'] = cos_sim(trainDataVecs_stop[:n_train], trainDataVecs_stop[n_train:], n=n_train)\n",
    "X_test['wiki_stop_cos'] = cos_sim(testDataVecs_stop[:n_test], testDataVecs_stop[n_test:], n=n_test)"
   ]
  },
  {
   "cell_type": "code",
   "execution_count": 36,
   "metadata": {},
   "outputs": [
    {
     "data": {
      "image/png": "[encoded data removed]",
      "text/plain": [
       "<matplotlib.figure.Figure at 0x7fd13c3d62e8>"
      ]
     },
     "metadata": {},
     "output_type": "display_data"
    }
   ],
   "source": [
    "mask = Y_train['is_duplicate'] == 1\n",
    "\n",
    "plt.figure(figsize=(18,5))\n",
    "\n",
    "plt.subplot(1,2,1)\n",
    "plt.title(\"Cosine similarity\")\n",
    "plt.hist(X_train['wiki_cos'][mask], bins=80, alpha=0.8, color='r', normed=True, label='Duplicate');\n",
    "plt.hist(X_train['wiki_cos'][~mask], bins=80, alpha=0.7, normed=True, label='Non-duplicate');\n",
    "plt.legend()\n",
    "\n",
    "plt.subplot(1,2,2)\n",
    "plt.title(\"Cosine similarity with stopwords\")\n",
    "plt.hist(X_train['wiki_stop_cos'][mask], bins=80, alpha=0.8, color='r', normed=True, label='Duplicate');\n",
    "plt.hist(X_train['wiki_stop_cos'][~mask], bins=80, alpha=0.7, normed=True, label='Non-duplicate');\n",
    "plt.legend()\n",
    "plt.show()"
   ]
  },
  {
   "cell_type": "markdown",
   "metadata": {},
   "source": [
    "**Bray-Curtis distance**"
   ]
  },
  {
   "cell_type": "code",
   "execution_count": 44,
   "metadata": {},
   "outputs": [
    {
     "name": "stdout",
     "output_type": "stream",
     "text": [
      "CPU times: user 1min 57s, sys: 19.2 ms, total: 1min 57s\n",
      "Wall time: 2min 13s\n"
     ]
    }
   ],
   "source": [
    "%%time\n",
    "\n",
    "X_train['wiki_braycurtis'] = [distance.braycurtis(trainDataVecs[i], trainDataVecs[i + n_train]) for i in range(n_train)] \n",
    "X_test['wiki_braycurtis'] = [distance.braycurtis(testDataVecs[i], testDataVecs[i + n_test]) for i in range(n_test)] \n",
    "\n",
    "X_train['wiki_braycurtis_stop'] = [distance.braycurtis(trainDataVecs_stop[i], trainDataVecs_stop[i + n_train]) for i in range(n_train)] \n",
    "X_test['wiki_braycurtis_stop'] = [distance.braycurtis(testDataVecs_stop[i], testDataVecs_stop[i + n_test]) for i in range(n_test)] "
   ]
  },
  {
   "cell_type": "code",
   "execution_count": 45,
   "metadata": {},
   "outputs": [
    {
     "data": {
      "image/png": "[encoded data removed]",
      "text/plain": [
       "<matplotlib.figure.Figure at 0x7fd11cb4c3c8>"
      ]
     },
     "metadata": {},
     "output_type": "display_data"
    }
   ],
   "source": [
    "plt.figure(figsize=(18,5))\n",
    "\n",
    "plt.subplot(1,2,1)\n",
    "plt.title(\"Bray-Curtis\")\n",
    "plt.hist(X_train['wiki_braycurtis'][mask], bins=80, alpha=0.8, color='r', normed=True, label='Duplicate');\n",
    "plt.hist(X_train['wiki_braycurtis'][~mask], bins=80, alpha=0.7, normed=True, label='Non-duplicate');\n",
    "plt.legend()\n",
    "\n",
    "plt.subplot(1,2,2)\n",
    "plt.title(\"Bray-Curtis with stopwords\")\n",
    "plt.hist(X_train['wiki_braycurtis_stop'][mask], bins=80, alpha=0.8, color='r', normed=True, label='Duplicate');\n",
    "plt.hist(X_train['wiki_braycurtis_stop'][~mask], bins=80, alpha=0.7, normed=True, label='Non-duplicate');\n",
    "plt.legend()\n",
    "plt.show()"
   ]
  },
  {
   "cell_type": "markdown",
   "metadata": {},
   "source": [
    "**Canberra distance**"
   ]
  },
  {
   "cell_type": "code",
   "execution_count": 46,
   "metadata": {},
   "outputs": [
    {
     "name": "stdout",
     "output_type": "stream",
     "text": [
      "CPU times: user 2min 21s, sys: 210 ms, total: 2min 21s\n",
      "Wall time: 2min 24s\n"
     ]
    }
   ],
   "source": [
    "%%time\n",
    "\n",
    "X_train['wiki_canberra'] = [distance.canberra(trainDataVecs[i], trainDataVecs[i + n_train]) for i in range(n_train)] \n",
    "X_test['wiki_canberra'] = [distance.canberra(testDataVecs[i], testDataVecs[i + n_test]) for i in range(n_test)] \n",
    "\n",
    "X_train['wiki_canberra_stop'] = [distance.canberra(trainDataVecs_stop[i], trainDataVecs_stop[i + n_train]) for i in range(n_train)] \n",
    "X_test['wiki_canberra_stop'] = [distance.canberra(testDataVecs_stop[i], testDataVecs_stop[i + n_test]) for i in range(n_test)] "
   ]
  },
  {
   "cell_type": "code",
   "execution_count": 48,
   "metadata": {},
   "outputs": [
    {
     "data": {
      "image/png": "[encoded data removed]",
      "text/plain": [
       "<matplotlib.figure.Figure at 0x7fd12d0f46a0>"
      ]
     },
     "metadata": {},
     "output_type": "display_data"
    }
   ],
   "source": [
    "plt.figure(figsize=(18,5))\n",
    "\n",
    "plt.subplot(1,2,1)\n",
    "plt.title(\"Canberra distance\")\n",
    "plt.hist(X_train['wiki_canberra'][mask], bins=80, alpha=0.8, color='r', normed=True, label='Duplicate');\n",
    "plt.hist(X_train['wiki_canberra'][~mask], bins=80, alpha=0.7, normed=True, label='Non-duplicate');\n",
    "plt.legend()\n",
    "\n",
    "plt.subplot(1,2,2)\n",
    "plt.title(\"Canberra distance with stopwords\")\n",
    "plt.hist(X_train['wiki_canberra_stop'][mask], bins=80, alpha=0.8, color='r', normed=True, label='Duplicate');\n",
    "plt.hist(X_train['wiki_canberra_stop'][~mask], bins=80, alpha=0.7, normed=True, label='Non-duplicate');\n",
    "plt.legend()\n",
    "plt.show()"
   ]
  },
  {
   "cell_type": "markdown",
   "metadata": {},
   "source": [
    "**Chebyshev distance**"
   ]
  },
  {
   "cell_type": "code",
   "execution_count": 49,
   "metadata": {},
   "outputs": [
    {
     "name": "stdout",
     "output_type": "stream",
     "text": [
      "CPU times: user 1min 53s, sys: 999 µs, total: 1min 53s\n",
      "Wall time: 1min 54s\n"
     ]
    }
   ],
   "source": [
    "%%time\n",
    "\n",
    "X_train['wiki_chebyshev'] = [distance.chebyshev(trainDataVecs[i], trainDataVecs[i + n_train]) for i in range(n_train)] \n",
    "X_test['wiki_chebyshev'] = [distance.chebyshev(testDataVecs[i], testDataVecs[i + n_test]) for i in range(n_test)] \n",
    "\n",
    "X_train['wiki_chebyshev_stop'] = [distance.chebyshev(trainDataVecs_stop[i], trainDataVecs_stop[i + n_train]) for i in range(n_train)] \n",
    "X_test['wiki_chebyshev_stop'] = [distance.chebyshev(testDataVecs_stop[i], testDataVecs_stop[i + n_test]) for i in range(n_test)] "
   ]
  },
  {
   "cell_type": "code",
   "execution_count": 50,
   "metadata": {},
   "outputs": [
    {
     "data": {
      "image/png": "[encoded data removed]",
      "text/plain": [
       "<matplotlib.figure.Figure at 0x7fd137366cf8>"
      ]
     },
     "metadata": {},
     "output_type": "display_data"
    }
   ],
   "source": [
    "plt.figure(figsize=(18,5))\n",
    "\n",
    "plt.subplot(1,2,1)\n",
    "plt.title(\"Chebyshev distance\")\n",
    "plt.hist(X_train['wiki_chebyshev'][mask], bins=80, alpha=0.8, color='r', normed=True, label='Duplicate');\n",
    "plt.hist(X_train['wiki_chebyshev'][~mask], bins=80, alpha=0.7, normed=True, label='Non-duplicate');\n",
    "plt.legend()\n",
    "\n",
    "plt.subplot(1,2,2)\n",
    "plt.title(\"Chebyshev distance with stopwords\")\n",
    "plt.hist(X_train['wiki_chebyshev_stop'][mask], bins=80, alpha=0.8, color='r', normed=True, label='Duplicate');\n",
    "plt.hist(X_train['wiki_chebyshev_stop'][~mask], bins=80, alpha=0.7, normed=True, label='Non-duplicate');\n",
    "plt.legend()\n",
    "plt.show()"
   ]
  },
  {
   "cell_type": "markdown",
   "metadata": {},
   "source": [
    "**Correlation**"
   ]
  },
  {
   "cell_type": "code",
   "execution_count": 51,
   "metadata": {},
   "outputs": [
    {
     "name": "stdout",
     "output_type": "stream",
     "text": [
      "CPU times: user 4min 30s, sys: 896 ms, total: 4min 31s\n",
      "Wall time: 4min 37s\n"
     ]
    }
   ],
   "source": [
    "%%time\n",
    "\n",
    "X_train['wiki_correlation'] = [distance.correlation(trainDataVecs[i], trainDataVecs[i + n_train]) for i in range(n_train)] \n",
    "X_test['wiki_correlation'] = [distance.correlation(testDataVecs[i], testDataVecs[i + n_test]) for i in range(n_test)] \n",
    "\n",
    "X_train['wiki_correlation_stop'] = [distance.correlation(trainDataVecs_stop[i], trainDataVecs_stop[i + n_train]) for i in range(n_train)] \n",
    "X_test['wiki_correlation_stop'] = [distance.correlation(testDataVecs_stop[i], testDataVecs_stop[i + n_test]) for i in range(n_test)] "
   ]
  },
  {
   "cell_type": "code",
   "execution_count": 53,
   "metadata": {
    "collapsed": true
   },
   "outputs": [],
   "source": [
    "X_train['wiki_correlation'].fillna(0, inplace=True)\n",
    "X_test['wiki_correlation'].fillna(0, inplace=True)\n",
    "X_train['wiki_correlation_stop'].fillna(0, inplace=True)\n",
    "X_test['wiki_correlation_stop'].fillna(0, inplace=True)"
   ]
  },
  {
   "cell_type": "code",
   "execution_count": 54,
   "metadata": {},
   "outputs": [
    {
     "data": {
      "image/png": "[encoded data removed]",
      "text/plain": [
       "<matplotlib.figure.Figure at 0x7fd134587cc0>"
      ]
     },
     "metadata": {},
     "output_type": "display_data"
    }
   ],
   "source": [
    "plt.figure(figsize=(18,5))\n",
    "\n",
    "plt.subplot(1,2,1)\n",
    "plt.title(\"Correlation\")\n",
    "plt.hist(X_train['wiki_correlation'][mask], bins=80, alpha=0.8, color='r', normed=True, label='Duplicate');\n",
    "plt.hist(X_train['wiki_correlation'][~mask], bins=80, alpha=0.7, normed=True, label='Non-duplicate');\n",
    "plt.legend()\n",
    "\n",
    "plt.subplot(1,2,2)\n",
    "plt.title(\"Correlation with stopwords\")\n",
    "plt.hist(X_train['wiki_correlation_stop'][mask], bins=80, alpha=0.8, color='r', normed=True, label='Duplicate');\n",
    "plt.hist(X_train['wiki_correlation_stop'][~mask], bins=80, alpha=0.7, normed=True, label='Non-duplicate');\n",
    "plt.legend()\n",
    "plt.show()"
   ]
  },
  {
   "cell_type": "markdown",
   "metadata": {},
   "source": [
    "**Word Mover's Distance**"
   ]
  },
  {
   "cell_type": "code",
   "execution_count": 66,
   "metadata": {},
   "outputs": [
    {
     "name": "stdout",
     "output_type": "stream",
     "text": [
      "CPU times: user 3 µs, sys: 0 ns, total: 3 µs\n",
      "Wall time: 7.15 µs\n"
     ]
    }
   ],
   "source": [
    "%time\n",
    "\n",
    "X_train['wiki_wmd'] = [wmd(qtrain[0].loc[i], qtrain[0].loc[n_train + i], model_wiki) for i in range(n_train)]\n",
    "X_train['wiki_wmd_stop'] = [wmd(qtrain[0].loc[i], qtrain[0].loc[n_train + i], model_wiki, False) for i in range(n_train)]\n",
    "\n",
    "X_test['wiki_wmd'] = [wmd(qtest[0].loc[i], qtest[0].loc[n_test + i], model_wiki) for i in range(n_test)]\n",
    "X_test['wiki_wmd_stop'] = [wmd(qtest[0].loc[i], qtest[0].loc[n_test + i], model_wiki, False) for i in range(n_test)]"
   ]
  },
  {
   "cell_type": "code",
   "execution_count": 67,
   "metadata": {},
   "outputs": [
    {
     "data": {
      "image/png": "[encoded data removed]",
      "text/plain": [
       "<matplotlib.figure.Figure at 0x7fd11d95d390>"
      ]
     },
     "metadata": {},
     "output_type": "display_data"
    }
   ],
   "source": [
    "plt.figure(figsize=(18,5))\n",
    "\n",
    "plt.subplot(1,2,1)\n",
    "plt.title(\"Word Mover`s Distance\")\n",
    "plt.hist(X_train['wiki_wmd'][mask], bins=80, range=[0,5], alpha=0.8, color='r', normed=True, label='Duplicate');\n",
    "plt.hist(X_train['wiki_wmd'][~mask], bins=80, alpha=0.7, range=[0,5], normed=True, label='Non-duplicate');\n",
    "plt.legend()\n",
    "\n",
    "plt.subplot(1,2,2)\n",
    "plt.title(\"Word Mover`s Distance with stopwords\")\n",
    "plt.hist(X_train['wiki_wmd_stop'][mask], bins=80, alpha=0.8, range=[0,5], color='r', normed=True, label='Duplicate');\n",
    "plt.hist(X_train['wiki_wmd_stop'][~mask], bins=80, alpha=0.7, range=[0,5], normed=True, label='Non-duplicate');\n",
    "plt.legend()\n",
    "plt.show()"
   ]
  },
  {
   "cell_type": "code",
   "execution_count": 72,
   "metadata": {
    "collapsed": true
   },
   "outputs": [],
   "source": [
    "features = ['wiki_cos', 'wiki_stop_cos', 'wiki_braycurtis', 'wiki_braycurtis_stop',\n",
    "            'wiki_canberra', 'wiki_canberra_stop', 'wiki_chebyshev',\n",
    "            'wiki_chebyshev_stop', 'wiki_correlation', 'wiki_correlation_stop',\n",
    "            'wiki_wmd', 'wiki_wmd_stop']\n",
    "\n",
    "X_train[features].to_csv('train_f3.csv')\n",
    "X_test[features].to_csv('test_f3.csv')"
   ]
  },
  {
   "cell_type": "markdown",
   "metadata": {},
   "source": [
    "## Doc2vec"
   ]
  },
  {
   "cell_type": "code",
   "execution_count": 82,
   "metadata": {
    "collapsed": true
   },
   "outputs": [],
   "source": [
    "# For building models\n",
    "import gensim\n",
    "from gensim import corpora, models\n",
    "from gensim.models import Doc2Vec\n",
    "from gensim.models.doc2vec import LabeledSentence"
   ]
  },
  {
   "cell_type": "code",
   "execution_count": 97,
   "metadata": {
    "collapsed": true
   },
   "outputs": [],
   "source": [
    "class TaggedQuestions:\n",
    "    def __init__(self, questions):\n",
    "        self.questions = questions\n",
    "    \n",
    "    def __iter__(self):\n",
    "        for i, question in enumerate(self.questions):\n",
    "            tokens = question.split()\n",
    "            yield LabeledSentence(words=tokens, tags=[\"Question %d\" % i])"
   ]
  },
  {
   "cell_type": "code",
   "execution_count": 88,
   "metadata": {
    "collapsed": true
   },
   "outputs": [],
   "source": [
    "all_questions.reset_index(drop=True, inplace=True)"
   ]
  },
  {
   "cell_type": "code",
   "execution_count": 98,
   "metadata": {
    "collapsed": true
   },
   "outputs": [],
   "source": []
  },
  {
   "cell_type": "code",
   "execution_count": 100,
   "metadata": {},
   "outputs": [
    {
     "name": "stdout",
     "output_type": "stream",
     "text": [
      "LabeledSentence(['what', 'is', 'the', 'step', 'by', 'step', 'guide', 'to', 'invest', 'in', 'share', 'market', 'in', 'india', '?'], ['Question 0'])\n"
     ]
    }
   ],
   "source": [
    "tagged_questions = TaggedQuestions(all_questions[0])\n",
    "\n",
    "for q in tagged_questions:\n",
    "    print(q)\n",
    "    break"
   ]
  },
  {
   "cell_type": "markdown",
   "metadata": {},
   "source": [
    "**Parameters**"
   ]
  },
  {
   "cell_type": "code",
   "execution_count": 111,
   "metadata": {
    "collapsed": true
   },
   "outputs": [],
   "source": [
    "min_count = 20\n",
    "window = 5\n",
    "size = 200\n",
    "negative = 5\n",
    "workers = 8\n",
    "alpha = 0.025\n",
    "min_alpha = 0.025"
   ]
  },
  {
   "cell_type": "code",
   "execution_count": 112,
   "metadata": {
    "collapsed": true
   },
   "outputs": [],
   "source": [
    "# building model\n",
    "model_dm = Doc2Vec(dm=1, min_count = min_count, window = window, size = size, negative = negative, \n",
    "                                     workers = workers, alpha = alpha, min_alpha = min_alpha)\n",
    "\n",
    "model_dbow = Doc2Vec(dm=0, min_count = min_count, window = window, size = size, negative = negative, \n",
    "                                     workers = workers, alpha = alpha, min_alpha = min_alpha)"
   ]
  },
  {
   "cell_type": "code",
   "execution_count": 113,
   "metadata": {},
   "outputs": [
    {
     "name": "stdout",
     "output_type": "stream",
     "text": [
      "CPU times: user 3min 34s, sys: 8.22 s, total: 3min 43s\n",
      "Wall time: 3min 43s\n"
     ]
    }
   ],
   "source": [
    "%%time\n",
    "\n",
    "# building vocabulary\n",
    "model_dm.build_vocab(tagged_questions)\n",
    "model_dbow.build_vocab(tagged_questions)"
   ]
  },
  {
   "cell_type": "code",
   "execution_count": 114,
   "metadata": {},
   "outputs": [
    {
     "data": {
      "text/plain": [
       "5500172"
      ]
     },
     "execution_count": 114,
     "metadata": {},
     "output_type": "execute_result"
    }
   ],
   "source": [
    "model_dm.corpus_count"
   ]
  },
  {
   "cell_type": "code",
   "execution_count": 115,
   "metadata": {},
   "outputs": [
    {
     "ename": "TypeError",
     "evalue": "Can't convert 'int' object to str implicitly",
     "output_type": "error",
     "traceback": [
      "\u001b[0;31m---------------------------------------------------------------------------\u001b[0m",
      "\u001b[0;31mTypeError\u001b[0m                                 Traceback (most recent call last)",
      "\u001b[0;32m<ipython-input-115-dfd119c46b22>\u001b[0m in \u001b[0;36m<module>\u001b[0;34m()\u001b[0m\n\u001b[0;32m----> 1\u001b[0;31m \u001b[0mget_ipython\u001b[0m\u001b[0;34m(\u001b[0m\u001b[0;34m)\u001b[0m\u001b[0;34m.\u001b[0m\u001b[0mrun_cell_magic\u001b[0m\u001b[0;34m(\u001b[0m\u001b[0;34m'time'\u001b[0m\u001b[0;34m,\u001b[0m \u001b[0;34m''\u001b[0m\u001b[0;34m,\u001b[0m \u001b[0;34m'\\nfor epoch in range(10):\\n    model_dm.train(tagged_questions) \\n    model_dm.alpha -= 0.002  # decrease the learning rate    \\n    model_dm.min_alpha = model_dm.alpha  # fix the learning rate, no decay\\n    print(\"DM epoch: %d\" % epoch+1)\\n    \\n    model_dbow.train(tagged_questions) \\n    model_dbow.alpha -= 0.002  # decrease the learning rate    \\n    model_dbow.min_alpha = model_dbow.alpha  # fix the learning rate, no decay\\n    print(\"DBOW epoch: %d\" % epoch+1)'\u001b[0m\u001b[0;34m)\u001b[0m\u001b[0;34m\u001b[0m\u001b[0m\n\u001b[0m",
      "\u001b[0;32m/opt/lab/anaconda/envs/py35/lib/python3.5/site-packages/IPython/core/interactiveshell.py\u001b[0m in \u001b[0;36mrun_cell_magic\u001b[0;34m(self, magic_name, line, cell)\u001b[0m\n\u001b[1;32m   2113\u001b[0m             \u001b[0mmagic_arg_s\u001b[0m \u001b[0;34m=\u001b[0m \u001b[0mself\u001b[0m\u001b[0;34m.\u001b[0m\u001b[0mvar_expand\u001b[0m\u001b[0;34m(\u001b[0m\u001b[0mline\u001b[0m\u001b[0;34m,\u001b[0m \u001b[0mstack_depth\u001b[0m\u001b[0;34m)\u001b[0m\u001b[0;34m\u001b[0m\u001b[0m\n\u001b[1;32m   2114\u001b[0m             \u001b[0;32mwith\u001b[0m \u001b[0mself\u001b[0m\u001b[0;34m.\u001b[0m\u001b[0mbuiltin_trap\u001b[0m\u001b[0;34m:\u001b[0m\u001b[0;34m\u001b[0m\u001b[0m\n\u001b[0;32m-> 2115\u001b[0;31m                 \u001b[0mresult\u001b[0m \u001b[0;34m=\u001b[0m \u001b[0mfn\u001b[0m\u001b[0;34m(\u001b[0m\u001b[0mmagic_arg_s\u001b[0m\u001b[0;34m,\u001b[0m \u001b[0mcell\u001b[0m\u001b[0;34m)\u001b[0m\u001b[0;34m\u001b[0m\u001b[0m\n\u001b[0m\u001b[1;32m   2116\u001b[0m             \u001b[0;32mreturn\u001b[0m \u001b[0mresult\u001b[0m\u001b[0;34m\u001b[0m\u001b[0m\n\u001b[1;32m   2117\u001b[0m \u001b[0;34m\u001b[0m\u001b[0m\n",
      "\u001b[0;32m<decorator-gen-59>\u001b[0m in \u001b[0;36mtime\u001b[0;34m(self, line, cell, local_ns)\u001b[0m\n",
      "\u001b[0;32m/opt/lab/anaconda/envs/py35/lib/python3.5/site-packages/IPython/core/magic.py\u001b[0m in \u001b[0;36m<lambda>\u001b[0;34m(f, *a, **k)\u001b[0m\n\u001b[1;32m    186\u001b[0m     \u001b[0;31m# but it's overkill for just that one bit of state.\u001b[0m\u001b[0;34m\u001b[0m\u001b[0;34m\u001b[0m\u001b[0m\n\u001b[1;32m    187\u001b[0m     \u001b[0;32mdef\u001b[0m \u001b[0mmagic_deco\u001b[0m\u001b[0;34m(\u001b[0m\u001b[0marg\u001b[0m\u001b[0;34m)\u001b[0m\u001b[0;34m:\u001b[0m\u001b[0;34m\u001b[0m\u001b[0m\n\u001b[0;32m--> 188\u001b[0;31m         \u001b[0mcall\u001b[0m \u001b[0;34m=\u001b[0m \u001b[0;32mlambda\u001b[0m \u001b[0mf\u001b[0m\u001b[0;34m,\u001b[0m \u001b[0;34m*\u001b[0m\u001b[0ma\u001b[0m\u001b[0;34m,\u001b[0m \u001b[0;34m**\u001b[0m\u001b[0mk\u001b[0m\u001b[0;34m:\u001b[0m \u001b[0mf\u001b[0m\u001b[0;34m(\u001b[0m\u001b[0;34m*\u001b[0m\u001b[0ma\u001b[0m\u001b[0;34m,\u001b[0m \u001b[0;34m**\u001b[0m\u001b[0mk\u001b[0m\u001b[0;34m)\u001b[0m\u001b[0;34m\u001b[0m\u001b[0m\n\u001b[0m\u001b[1;32m    189\u001b[0m \u001b[0;34m\u001b[0m\u001b[0m\n\u001b[1;32m    190\u001b[0m         \u001b[0;32mif\u001b[0m \u001b[0mcallable\u001b[0m\u001b[0;34m(\u001b[0m\u001b[0marg\u001b[0m\u001b[0;34m)\u001b[0m\u001b[0;34m:\u001b[0m\u001b[0;34m\u001b[0m\u001b[0m\n",
      "\u001b[0;32m/opt/lab/anaconda/envs/py35/lib/python3.5/site-packages/IPython/core/magics/execution.py\u001b[0m in \u001b[0;36mtime\u001b[0;34m(self, line, cell, local_ns)\u001b[0m\n\u001b[1;32m   1178\u001b[0m         \u001b[0;32melse\u001b[0m\u001b[0;34m:\u001b[0m\u001b[0;34m\u001b[0m\u001b[0m\n\u001b[1;32m   1179\u001b[0m             \u001b[0mst\u001b[0m \u001b[0;34m=\u001b[0m \u001b[0mclock2\u001b[0m\u001b[0;34m(\u001b[0m\u001b[0;34m)\u001b[0m\u001b[0;34m\u001b[0m\u001b[0m\n\u001b[0;32m-> 1180\u001b[0;31m             \u001b[0mexec\u001b[0m\u001b[0;34m(\u001b[0m\u001b[0mcode\u001b[0m\u001b[0;34m,\u001b[0m \u001b[0mglob\u001b[0m\u001b[0;34m,\u001b[0m \u001b[0mlocal_ns\u001b[0m\u001b[0;34m)\u001b[0m\u001b[0;34m\u001b[0m\u001b[0m\n\u001b[0m\u001b[1;32m   1181\u001b[0m             \u001b[0mend\u001b[0m \u001b[0;34m=\u001b[0m \u001b[0mclock2\u001b[0m\u001b[0;34m(\u001b[0m\u001b[0;34m)\u001b[0m\u001b[0;34m\u001b[0m\u001b[0m\n\u001b[1;32m   1182\u001b[0m             \u001b[0mout\u001b[0m \u001b[0;34m=\u001b[0m \u001b[0;32mNone\u001b[0m\u001b[0;34m\u001b[0m\u001b[0m\n",
      "\u001b[0;32m<timed exec>\u001b[0m in \u001b[0;36m<module>\u001b[0;34m()\u001b[0m\n",
      "\u001b[0;31mTypeError\u001b[0m: Can't convert 'int' object to str implicitly"
     ]
    }
   ],
   "source": [
    "%%time\n",
    "\n",
    "for epoch in range(10):\n",
    "    model_dm.train(tagged_questions) \n",
    "    model_dm.alpha -= 0.002  # decrease the learning rate    \n",
    "    model_dm.min_alpha = model_dm.alpha  # fix the learning rate, no decay\n",
    "    print(\"DM epoch: %d\" % epoch+1)\n",
    "    \n",
    "    model_dbow.train(tagged_questions) \n",
    "    model_dbow.alpha -= 0.002  # decrease the learning rate    \n",
    "    model_dbow.min_alpha = model_dbow.alpha  # fix the learning rate, no decay\n",
    "    print(\"DBOW epoch: %d\" % epoch+1)"
   ]
  },
  {
   "cell_type": "code",
   "execution_count": null,
   "metadata": {
    "collapsed": true
   },
   "outputs": [],
   "source": []
  },
  {
   "cell_type": "markdown",
   "metadata": {
    "collapsed": true
   },
   "source": [
    "### Prediction"
   ]
  },
  {
   "cell_type": "code",
   "execution_count": 158,
   "metadata": {
    "collapsed": true
   },
   "outputs": [],
   "source": [
    "x_train = X_train\n",
    "y_train = pd.DataFrame(Y_train)"
   ]
  },
  {
   "cell_type": "code",
   "execution_count": 199,
   "metadata": {},
   "outputs": [
    {
     "name": "stdout",
     "output_type": "stream",
     "text": [
      "[0]\ttrain-logloss:0.673807\tvalid-logloss:0.674002\n",
      "[50]\ttrain-logloss:0.430838\tvalid-logloss:0.434834\n",
      "[100]\ttrain-logloss:0.405027\tvalid-logloss:0.411063\n",
      "[150]\ttrain-logloss:0.392754\tvalid-logloss:0.401224\n",
      "[200]\ttrain-logloss:0.38367\tvalid-logloss:0.394895\n",
      "[250]\ttrain-logloss:0.376946\tvalid-logloss:0.390755\n",
      "[300]\ttrain-logloss:0.37121\tvalid-logloss:0.387609\n",
      "[350]\ttrain-logloss:0.366407\tvalid-logloss:0.385359\n",
      "[400]\ttrain-logloss:0.362421\tvalid-logloss:0.383598\n",
      "[450]\ttrain-logloss:0.359006\tvalid-logloss:0.382287\n"
     ]
    }
   ],
   "source": [
    "import xgboost as xgb\n",
    "from sklearn.cross_validation import train_test_split\n",
    "\n",
    "x_train, x_valid, y_train, y_valid = train_test_split(x_train, y_train, test_size=0.33, random_state=2017)\n",
    "\n",
    "params = {}\n",
    "params[\"objective\"] = \"binary:logistic\"\n",
    "params['eval_metric'] = 'logloss'\n",
    "params[\"eta\"] = 0.05\n",
    "params[\"subsample\"] = 0.7\n",
    "params[\"min_child_weight\"] = 5\n",
    "params[\"colsample_bytree\"] = 0.7\n",
    "params[\"max_depth\"] = 6\n",
    "params[\"silent\"] = 1\n",
    "params[\"seed\"] = 2107\n",
    "\n",
    "d_train = xgb.DMatrix(x_train, label=y_train)\n",
    "d_valid = xgb.DMatrix(x_valid, label=y_valid)\n",
    "\n",
    "watchlist = [(d_train, 'train'), (d_valid, 'valid')]\n",
    "\n",
    "bst = xgb.train(params, d_train, 500, watchlist, verbose_eval=50)"
   ]
  },
  {
   "cell_type": "code",
   "execution_count": 103,
   "metadata": {},
   "outputs": [
    {
     "data": {
      "image/png": "[encoded data removed]",
      "text/plain": [
       "<matplotlib.figure.Figure at 0x7fd235b1d8d0>"
      ]
     },
     "metadata": {},
     "output_type": "display_data"
    }
   ],
   "source": [
    "plt.rcParams['figure.figsize'] = (10, 10)\n",
    "xgb.plot_importance(bst); plt.show()"
   ]
  },
  {
   "cell_type": "code",
   "execution_count": 200,
   "metadata": {},
   "outputs": [
    {
     "data": {
      "text/plain": [
       "0.46049364298695528"
      ]
     },
     "execution_count": 200,
     "metadata": {},
     "output_type": "execute_result"
    }
   ],
   "source": [
    "log_loss(y_valid, [f(x) for x in bst.predict(d_valid)])"
   ]
  },
  {
   "cell_type": "code",
   "execution_count": 202,
   "metadata": {},
   "outputs": [
    {
     "data": {
      "text/plain": [
       "0.381134393941233"
      ]
     },
     "execution_count": 202,
     "metadata": {},
     "output_type": "execute_result"
    }
   ],
   "source": [
    "log_loss(y_valid, bst.predict(d_valid))"
   ]
  },
  {
   "cell_type": "markdown",
   "metadata": {},
   "source": [
    "## Prediction\n",
    "### Model 1"
   ]
  },
  {
   "cell_type": "code",
   "execution_count": 187,
   "metadata": {},
   "outputs": [
    {
     "name": "stdout",
     "output_type": "stream",
     "text": [
      "CPU times: user 1h 10min 2s, sys: 8.64 s, total: 1h 10min 11s\n",
      "Wall time: 11min 55s\n"
     ]
    }
   ],
   "source": [
    "%%time\n",
    "\n",
    "params = {}\n",
    "params[\"learning_rate\"] = 0.05\n",
    "params[\"subsample\"] = 0.7\n",
    "params[\"min_child_weight\"] = 5\n",
    "params[\"colsample_bytree\"] = 0.7\n",
    "params[\"max_depth\"] = 6\n",
    "params[\"silent\"] = 1\n",
    "params[\"seed\"] = 2107\n",
    "\n",
    "d_train = xgb.DMatrix(x_train, label=y_train)\n",
    "\n",
    "clf_1 = xgb.XGBClassifier(**params, n_estimators=1000)\n",
    "clf_1.fit(x_train, y_train)\n",
    "p_test_1 = clf_1.predict_proba(X_test)[:,1]"
   ]
  },
  {
   "cell_type": "code",
   "execution_count": 194,
   "metadata": {
    "collapsed": true
   },
   "outputs": [],
   "source": [
    "p_test_1 = clf_1.predict_proba(X_test)[:,1]"
   ]
  },
  {
   "cell_type": "markdown",
   "metadata": {},
   "source": [
    "### Model 2"
   ]
  },
  {
   "cell_type": "code",
   "execution_count": 160,
   "metadata": {},
   "outputs": [
    {
     "name": "stdout",
     "output_type": "stream",
     "text": [
      "CPU times: user 2h 31min 14s, sys: 20.3 s, total: 2h 31min 34s\n",
      "Wall time: 22min 19s\n"
     ]
    }
   ],
   "source": [
    "%%time\n",
    "\n",
    "params = {}\n",
    "params[\"learning_rate\"] = 0.02\n",
    "params[\"subsample\"] = 0.7\n",
    "params[\"min_child_weight\"] = 1\n",
    "params[\"colsample_bytree\"] = 0.7\n",
    "params[\"max_depth\"] = 6\n",
    "params[\"silent\"] = 1\n",
    "params[\"seed\"] = 2107\n",
    "\n",
    "d_train = xgb.DMatrix(x_train, label=y_train)\n",
    "\n",
    "clf_2 = xgb.XGBClassifier(**params, n_estimators=3000)\n",
    "clf_2.fit(x_train, y_train)\n",
    "p_test_2 = clf_2.predict_proba(X_test)[:,1]"
   ]
  },
  {
   "cell_type": "code",
   "execution_count": 195,
   "metadata": {
    "collapsed": true
   },
   "outputs": [],
   "source": [
    "p_test_2 = clf_2.predict_proba(X_test)[:,1]"
   ]
  },
  {
   "cell_type": "code",
   "execution_count": 175,
   "metadata": {},
   "outputs": [
    {
     "data": {
      "image/png": "[encoded data removed]",
      "text/plain": [
       "<matplotlib.figure.Figure at 0x7fd234ce9dd8>"
      ]
     },
     "metadata": {},
     "output_type": "display_data"
    }
   ],
   "source": [
    "plt.hist(np.abs(p_test_2 - p_test_1),bins=100);"
   ]
  },
  {
   "cell_type": "markdown",
   "metadata": {
    "collapsed": true
   },
   "source": [
    "## Calibration\n",
    "\n",
    "**scaling calibration: multiply by 0.165/mean(predicted probability)**"
   ]
  },
  {
   "cell_type": "code",
   "execution_count": 189,
   "metadata": {
    "collapsed": true
   },
   "outputs": [],
   "source": [
    "#a = 0.173 / 0.3692; b = (1 - 0.173) / (1 - 0.3692)\n",
    "a = 0.165 / 0.37; b = (1 - 0.165) / (1 - 0.37)"
   ]
  },
  {
   "cell_type": "code",
   "execution_count": 190,
   "metadata": {
    "collapsed": true
   },
   "outputs": [],
   "source": [
    "def f(x):\n",
    "    return a * x / (a * x + b * (1 - x))"
   ]
  },
  {
   "cell_type": "code",
   "execution_count": 196,
   "metadata": {
    "collapsed": true
   },
   "outputs": [],
   "source": [
    "p_test_12 = (p_test_1 + p_test_2) / 2"
   ]
  },
  {
   "cell_type": "code",
   "execution_count": 197,
   "metadata": {
    "collapsed": true
   },
   "outputs": [],
   "source": [
    "cp_test = [f(x) for x in p_test_12]\n",
    "p_test_12 = cp_test"
   ]
  },
  {
   "cell_type": "code",
   "execution_count": 180,
   "metadata": {},
   "outputs": [
    {
     "data": {
      "text/plain": [
       "array([  2.27406217e-05,  -5.82490862e-03,  -5.20923385e-03, ...,\n",
       "        -9.95084600e-08,  -4.10134049e-03,   4.45512784e-03])"
      ]
     },
     "execution_count": 180,
     "metadata": {},
     "output_type": "execute_result"
    }
   ],
   "source": [
    "np.array(p_test) - np.array(p_test_12)"
   ]
  },
  {
   "cell_type": "code",
   "execution_count": 119,
   "metadata": {},
   "outputs": [
    {
     "data": {
      "text/plain": [
       "array([ True, False, False, ...,  True, False, False], dtype=bool)"
      ]
     },
     "execution_count": 119,
     "metadata": {},
     "output_type": "execute_result"
    }
   ],
   "source": [
    "np.array(p_test) < 0.01"
   ]
  },
  {
   "cell_type": "markdown",
   "metadata": {},
   "source": [
    "## Results"
   ]
  },
  {
   "cell_type": "code",
   "execution_count": 198,
   "metadata": {
    "collapsed": true
   },
   "outputs": [],
   "source": [
    "sub = pd.DataFrame()\n",
    "sub['test_id'] = sample['test_id']\n",
    "sub['is_duplicate'] = p_test_12\n",
    "sub.to_csv('mix_xgb.csv', index=False)"
   ]
  },
  {
   "cell_type": "code",
   "execution_count": null,
   "metadata": {
    "collapsed": true
   },
   "outputs": [],
   "source": []
  }
 ],
 "metadata": {
  "kernelspec": {
   "display_name": "Python [conda env:py35]",
   "language": "python",
   "name": "conda-env-py35-py"
  },
  "language_info": {
   "codemirror_mode": {
    "name": "ipython",
    "version": 3
   },
   "file_extension": ".py",
   "mimetype": "text/x-python",
   "name": "python",
   "nbconvert_exporter": "python",
   "pygments_lexer": "ipython3",
   "version": "3.5.2"
  }
 },
 "nbformat": 4,
 "nbformat_minor": 2
}
